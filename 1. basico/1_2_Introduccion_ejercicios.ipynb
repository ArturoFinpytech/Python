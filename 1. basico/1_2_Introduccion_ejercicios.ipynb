{
  "nbformat": 4,
  "nbformat_minor": 0,
  "metadata": {
    "colab": {
      "provenance": [],
      "authorship_tag": "ABX9TyN58YzyechAOiZ5yp66eMSI",
      "include_colab_link": true
    },
    "kernelspec": {
      "name": "python3",
      "display_name": "Python 3"
    },
    "language_info": {
      "name": "python"
    }
  },
  "cells": [
    {
      "cell_type": "markdown",
      "metadata": {
        "id": "view-in-github",
        "colab_type": "text"
      },
      "source": [
        "<a href=\"https://colab.research.google.com/github/ArturoFinpytech/Python/blob/main/1_2_Introduccion_ejercicios.ipynb\" target=\"_parent\"><img src=\"https://colab.research.google.com/assets/colab-badge.svg\" alt=\"Open In Colab\"/></a>"
      ]
    },
    {
      "cell_type": "markdown",
      "source": [
        "# Ejercicio 1: Declarar Variables\n",
        "Declara dos variables para almacenar el precio de una acción y la cantidad de acciones que posees. Luego, imprime los valores de estas variables para confirmar que han sido correctamente asignadas."
      ],
      "metadata": {
        "id": "cKubc6D0EvAT"
      }
    },
    {
      "cell_type": "code",
      "source": [
        "# Declara una variable para el precio de una acción y otra para la cantidad de acciones\n",
        "precio_accion = 150.75\n",
        "cantidad_acciones = 10\n",
        "\n",
        "# Imprime ambas variables\n",
        "print(precio_accion)\n",
        "print(cantidad_acciones)\n"
      ],
      "metadata": {
        "id": "2pONIyq1EzxC",
        "colab": {
          "base_uri": "https://localhost:8080/"
        },
        "outputId": "53b581e8-f2f8-41e6-dae8-17d894733bc9"
      },
      "execution_count": null,
      "outputs": [
        {
          "output_type": "stream",
          "name": "stdout",
          "text": [
            "150.75\n",
            "10\n"
          ]
        }
      ]
    },
    {
      "cell_type": "markdown",
      "source": [
        "## **Desglose y Explicación**\n",
        "\n",
        "**Comentarios (#):**\n",
        "\n",
        "Las líneas que comienzan con # son comentarios. Se utilizan para explicar el código y no se ejecutan. Aquí, los comentarios explican qué hace cada bloque de código.\n",
        "\n",
        "**Declaración de Variables:**\n",
        "\n",
        "`precio_accion = 150.75`: Declara una variable llamada precio_accion y le asigna el valor 150.75. Este valor representa el precio de una acción.\n",
        "\n",
        "`cantidad_acciones = 10`: Declara una variable llamada cantidad_acciones y le asigna el valor 10. Este valor representa la cantidad de acciones que se poseen.\n",
        "\n",
        "**Impresión de Variables:**\n",
        "\n",
        "`print(precio_accion)`: Utiliza la función print() para mostrar el valor de la variable precio_accion en la consola. Esto te permite verificar que la variable ha sido correctamente asignada.\n",
        "`print(cantidad_acciones)`: Utiliza la función print() para mostrar el valor de la variable cantidad_acciones en la consola. Esto te permite verificar que la variable ha sido correctamente asignada.\n",
        "\n",
        "**Ejemplo Cotidiano**\n",
        "\n",
        "Imagina que tienes un artículo en una tienda, como una camiseta, y su precio es de $150.75. Además, sabes que tienes 10 camisetas en el inventario. Primero, escribes estos valores en un cuaderno para asegurarte de que no los olvidas. Luego, lees estos valores en voz alta para confirmarlos. Aquí, declarar las variables es como escribir los valores en tu cuaderno, y la función print() es como leerlos en voz alta.\n",
        "\n",
        "\n",
        "\n",
        "---\n",
        "\n"
      ],
      "metadata": {
        "id": "Zp5cx5633dup"
      }
    },
    {
      "cell_type": "markdown",
      "source": [
        "# Ejercicio 2: Calcular el Valor Total de una Inversión\n",
        "Usa las variables previamente declaradas para calcular el valor total de tu inversión multiplicando el precio de la acción por la cantidad de acciones. Imprime el resultado para ver el valor total de la inversión."
      ],
      "metadata": {
        "id": "34KIBNupE0J7"
      }
    },
    {
      "cell_type": "code",
      "source": [
        "# Usa las variables declaradas para calcular el valor total de la inversión\n",
        "valor_total = precio_accion * cantidad_acciones\n",
        "\n",
        "# Imprime el resultado\n",
        "print(f\"El valor total de la inversión es: ${valor_total}\")\n"
      ],
      "metadata": {
        "id": "lt2z_rUiE0gD",
        "colab": {
          "base_uri": "https://localhost:8080/"
        },
        "outputId": "c6017f9c-17c3-4592-c283-f3f129c68655"
      },
      "execution_count": null,
      "outputs": [
        {
          "output_type": "stream",
          "name": "stdout",
          "text": [
            "El valor total de la inversión es: $1507.5\n"
          ]
        }
      ]
    },
    {
      "cell_type": "markdown",
      "source": [
        "## **Desglose y Explicación**\n",
        "\n",
        "\n",
        "**Cálculo del Valor Total de la Inversión:**\n",
        "\n",
        "valor_total = precio_accion * cantidad_acciones: Calcula el valor total de la inversión multiplicando el precio de una acción (precio_accion) por la cantidad de acciones (cantidad_acciones). El resultado se almacena en la variable valor_total.\n",
        "\n",
        "**Impresión del Resultado:**\n",
        "\n",
        "`print(f\"El valor total de la inversión es: ${valor_total}\")`: Utiliza la función print() junto con un f-string para mostrar el valor total de la inversión en la consola. El f-string permite incrustar la variable valor_total directamente en la cadena de texto, lo que facilita la creación de mensajes formateados.\n",
        "\n",
        "**Ejemplo Cotidiano**\n",
        "\n",
        "Imagina que tienes un precio unitario para un producto, como una camiseta, que cuesta 150.75 y sabes que tienes 10 camisetas en tu inventario. Para calcular cuánto valen todas las camisetas juntas, multiplicas el precio de una camiseta por la cantidad que tienes. Luego, le dices a alguien: \"El valor total de las camisetas es: $1507.50\". Aquí, calcular el valor total de la inversión es como hacer esta multiplicación y la función print() es como decirle a alguien el resultado.\n",
        "\n",
        "---"
      ],
      "metadata": {
        "id": "7I9PEh__5bk2"
      }
    },
    {
      "cell_type": "markdown",
      "source": [
        "# Ejercicio 3: Función para Calcular el Retorno de Inversión\n",
        "Declara una función llamada calcular_retorno que acepte dos argumentos: la inversión inicial y el valor actual. La función debe calcular y retornar el retorno de la inversión usando la fórmula ((valor_actual - inversion_inicial) / inversion_inicial). Usa esta función con valores de ejemplo y muestra el retorno."
      ],
      "metadata": {
        "id": "pc1h8B33E0tK"
      }
    },
    {
      "cell_type": "code",
      "source": [
        "# Declara una función para calcular el retorno de inversión\n",
        "def calcular_retorno(inversion_inicial, valor_actual):\n",
        "    retorno = (valor_actual - inversion_inicial) / inversion_inicial\n",
        "    return retorno\n",
        "\n",
        "# Usa la función con valores de ejemplo\n",
        "inversion_inicial = 1000\n",
        "valor_actual = 1200\n",
        "print(f\"El retorno de la inversión es: {calcular_retorno(inversion_inicial, valor_actual):.2f}\")\n"
      ],
      "metadata": {
        "id": "EaT64NzTE1ET",
        "colab": {
          "base_uri": "https://localhost:8080/"
        },
        "outputId": "65e4f356-87b2-4fea-aae0-029e531605e4"
      },
      "execution_count": null,
      "outputs": [
        {
          "output_type": "stream",
          "name": "stdout",
          "text": [
            "El retorno de la inversión es: 0.20\n"
          ]
        }
      ]
    },
    {
      "cell_type": "markdown",
      "source": [
        "## **Desglose y Explicación**\n",
        "\n",
        "`def calcular_retorno(inversion_inicial, valor_actual)`: Declara una función llamada `calcular_retorno` que acepta dos argumentos: `inversion_inicial` (la cantidad de dinero invertida inicialmente) y `valor_actual` (el valor actual de la inversión).\n",
        "`retorno = (valor_actual - inversion_inicial) / inversion_inicial`: Dentro de la función, calcula el retorno de la inversión usando la fórmula `((valor_actual - inversion_inicial) / inversion_inicial)`. El resultado se almacena en la variable retorno.\n",
        "\n",
        "`return retorno`: La función devuelve el valor del retorno calculado.\n",
        "Uso de la Función con Valores de Ejemplo:\n",
        "\n",
        "`inversion_inicial = 1000`: Declara una variable para la inversión inicial y le asigna el valor 1000.\n",
        "\n",
        "`valor_actual `= 1200: Declara una variable para el valor actual de la inversión y le asigna el valor 1200.\n",
        "\n",
        "`print(f\"El retorno de la inversión es: {calcular_retorno(inversion_inicial, valor_actual):.2f}\")`: Utiliza la función `calcular_retorno` con los valores de ejemplo `(inversion_inicial y valor_actual)`. El resultado se inserta en un f-string para formatear la salida con dos decimales. La función print() muestra el retorno de la inversión en la consola.\n",
        "\n",
        "**Ejemplo Cotidiano**\n",
        "\n",
        "Imagina que compraste 100 manzanas por 1000, y ahora puedes vender todas las manzanas por $1200. Para calcular cuánto ganaste en relación con tu inversión inicial, restas el precio de venta (1200) del precio de compra (1000), y luego divides esta diferencia por el precio de compra (1000). El resultado te dice cuánto retorno obtuviste de tu inversión.\n",
        "\n",
        "**En términos de código:**\n",
        "\n",
        "* Función: La función calcular_retorno realiza estos cálculos por ti.\n",
        "* Uso de la función: Le das a la función los valores de tu inversión inicial y el valor actual, y la función te devuelve el retorno.\n",
        "\n",
        "---"
      ],
      "metadata": {
        "id": "BCkS4tes6dhG"
      }
    },
    {
      "cell_type": "markdown",
      "source": [
        "# Ejercicio 4: Utilizar Diferentes Tipos de Datos\n",
        "Declara variables que representen diferentes tipos de datos: un número entero para la cantidad de acciones, un número decimal para el precio de una acción, una cadena de texto para el nombre de una empresa, una lista de precios semanales y un diccionario con los precios de varias acciones. Imprime estos datos para confirmar sus valores."
      ],
      "metadata": {
        "id": "Wp215WrsE1TS"
      }
    },
    {
      "cell_type": "code",
      "source": [
        "# Declara diferentes tipos de datos\n",
        "nombre_empresa = \"FinanzasCorp\"\n",
        "acciones = {\"Apple\": 145.30, \"Microsoft\": 210.45}\n",
        "precios_semanales = [22.5, 23.75, 23.00, 24.25]\n",
        "\n",
        "# Imprime los datos\n",
        "print(nombre_empresa)\n",
        "print(acciones)\n",
        "print(precios_semanales)\n"
      ],
      "metadata": {
        "id": "BkpWUmYgE4o8",
        "colab": {
          "base_uri": "https://localhost:8080/"
        },
        "outputId": "b9d8ef1f-3e9e-460b-a12b-07c730a955d7"
      },
      "execution_count": null,
      "outputs": [
        {
          "output_type": "stream",
          "name": "stdout",
          "text": [
            "FinanzasCorp\n",
            "{'Apple': 145.3, 'Microsoft': 210.45}\n",
            "[22.5, 23.75, 23.0, 24.25]\n"
          ]
        }
      ]
    },
    {
      "cell_type": "markdown",
      "source": [
        "## **Desglose y Explicación**\n",
        "\n",
        "**Declaración de Variables con Diferentes Tipos de Datos:**\n",
        "\n",
        "`nombre_empresa = \"FinanzasCorp\"`: Declara una variable llamada nombre_empresa y le asigna una cadena de texto (string) que representa el nombre de la empresa.\n",
        "`acciones = {\"Apple\": 145.30, \"Microsoft\": 210.45}`: Declara una variable llamada acciones y le asigna un diccionario (dictionary) con pares clave-valor, donde las claves son nombres de empresas y los valores son los precios de sus acciones.\n",
        "`precios_semanales = [22.5, 23.75, 23.00, 24.25]`: Declara una variable llamada precios_semanales y le asigna una lista (list) de números que representan los precios semanales de una acción.\n",
        "\n",
        "**Impresión de Datos:**\n",
        "\n",
        "`print(nombre_empresa)`: Utiliza la función print() para mostrar el valor de la variable nombre_empresa en la consola.\n",
        "\n",
        "`print(acciones)`: Utiliza la función print() para mostrar el valor del diccionario acciones en la consola.\n",
        "\n",
        "`print(precios_semanales)`: Utiliza la función print() para mostrar el valor de la lista precios_semanales en la consola.\n",
        "\n",
        "**Ejemplo Cotidiano**\n",
        "\n",
        "Imagina que estás manejando un inventario para una tienda.\n",
        "\n",
        "**Cadena de Texto:** El nombre de tu tienda es \"FinanzasCorp\", así que lo escribes en un papel.\n",
        "\n",
        "**Diccionario:** Tienes una lista de productos con sus precios, por ejemplo, \"Apple\" cuesta 145.30 y \"Microsoft\" cuesta 210.45, y lo guardas en un diccionario.\n",
        "\n",
        "**Lista:** También llevas un registro de los precios semanales de un producto específico en una lista, por ejemplo, los precios de una semana podrían ser 22.5, 23.75, 23.00 y 24.25.\n",
        "\n",
        "Cuando imprimes estos datos, es como si le mostraras a alguien tu papel con el nombre de la tienda, la lista de precios de productos y los precios semanales del producto.\n",
        "\n",
        "---"
      ],
      "metadata": {
        "id": "c0jK9HSx_Czz"
      }
    },
    {
      "cell_type": "markdown",
      "source": [
        "# Ejercicio 5: Condicionales Simples\n",
        "Escribe una condicional que verifique si el precio de una acción es mayor a un umbral (por ejemplo, 100). Si la condición es verdadera, imprime \"La acción está sobrevalorada\". Si es falsa, imprime \"La acción tiene un precio razonable\"."
      ],
      "metadata": {
        "id": "ZzPYJkjuE5AC"
      }
    },
    {
      "cell_type": "code",
      "source": [
        "precio_accion = 101\n",
        "\n",
        "# Usa una condicional para verificar el precio de una acción\n",
        "if precio_accion > 100:\n",
        "    print(\"La acción está sobrevalorada\")\n",
        "else:\n",
        "    print(\"La acción tiene un precio razonable\")\n"
      ],
      "metadata": {
        "id": "wvCzpYtJE5ya",
        "colab": {
          "base_uri": "https://localhost:8080/"
        },
        "outputId": "bc6af941-2f11-4db2-8904-56f3019a9d0b"
      },
      "execution_count": null,
      "outputs": [
        {
          "output_type": "stream",
          "name": "stdout",
          "text": [
            "La acción está sobrevalorada\n"
          ]
        }
      ]
    },
    {
      "cell_type": "markdown",
      "source": [
        "## **Desglose y Explicación**\n",
        "\n",
        "**Asignación de la Variable:**\n",
        "\n",
        "`precio_accion = 101`: Asigna el valor 101 a la variable precio_accion.\n",
        "\n",
        "`if precio_accion > 100:`: Esta línea verifica si el valor de la variable precio_accion es mayor que 100.\n",
        "\n",
        "if es una palabra clave que inicia una declaración condicional.\n",
        "\n",
        "`precio_accion > 100` es una expresión que evalúa si precio_accion es mayor que 100.\n",
        "\n",
        "Si esta expresión es verdadera, se ejecutará el bloque de código indentado inmediatamente después de la condición.\n",
        "\n",
        "**Bloque de Código if:**\n",
        "\n",
        "`print(\"La acción está sobrevalorada\")`: Si la condición del if es verdadera (es decir, si precio_accion es mayor que 100), esta línea de código se ejecutará.\n",
        "\n",
        "Utiliza la función **print()** para mostrar el mensaje \"La acción está sobrevalorada\" en la consola.\n",
        "\n",
        "**Condicional else:**\n",
        "\n",
        "`else:`: Esta palabra clave se utiliza para definir un bloque de código que se ejecutará si la condición del if es falsa.\n",
        "\n",
        "else no tiene una condición; simplemente cubre todos los demás casos que no fueron capturados por el if.\n",
        "\n",
        "**Bloque de Código else:**\n",
        "\n",
        "`print(\"La acción tiene un precio razonable\")`: Si la condición del if es falsa (es decir, si precio_accion no es mayor que 100), esta línea de código se ejecutará.\n",
        "\n",
        "Utiliza la función print() para mostrar el mensaje \"La acción tiene un precio razonable\" en la consola.\n",
        "\n",
        "**Ejemplo Cotidiano**\n",
        "\n",
        "Imagina que estás en una tienda y ves una camiseta que cuesta 101. Tú decides que cualquier camiseta que cueste más de 100 está sobrevalorada. Así que haces la siguiente evaluación:\n",
        "\n",
        "Si el precio de la camiseta es mayor que 100, piensas: \"La camiseta está sobrevalorada\".\n",
        "\n",
        "Si el precio de la camiseta es $100 o menos, piensas: \"La camiseta tiene un precio razonable\".\n",
        "\n",
        "**En términos de código:**\n",
        "\n",
        "**Condicional if:** Verificas si el precio es mayor que 100.\n",
        "**Bloque de código if:** Si el precio es mayor, decides que está sobrevalorada.\n",
        "\n",
        "**Condicional else:** Si el precio no es mayor, decides que tiene un precio razonable.\n",
        "\n"
      ],
      "metadata": {
        "id": "jAlNo67KB696"
      }
    },
    {
      "cell_type": "markdown",
      "source": [
        "# Ejercicio 6: Bucle For con Listas\n",
        "Usa un bucle for para iterar sobre una lista de precios semanales de acciones. En cada iteración, imprime el precio actual para verificar que el bucle recorre correctamente todos los elementos de la lista."
      ],
      "metadata": {
        "id": "QGOWc8kWE6IL"
      }
    },
    {
      "cell_type": "code",
      "source": [
        "precios_semanales = [22.5, 23.75, 23.00, 24.25]\n",
        "\n",
        "# Usa un bucle for para iterar sobre los precios semanales\n",
        "for precio in precios_semanales:\n",
        "    print(f\"El precio es: ${precio}\")\n"
      ],
      "metadata": {
        "id": "jGwD5i6mE6ar",
        "colab": {
          "base_uri": "https://localhost:8080/"
        },
        "outputId": "a1316213-36f9-4039-e40f-e599427a2490"
      },
      "execution_count": null,
      "outputs": [
        {
          "output_type": "stream",
          "name": "stdout",
          "text": [
            "El precio es: $22.5\n",
            "El precio es: $23.75\n",
            "El precio es: $23.0\n",
            "El precio es: $24.25\n"
          ]
        }
      ]
    },
    {
      "cell_type": "markdown",
      "source": [
        "## **Desglose y Explicación**\n",
        "\n",
        "**Asignación de la Variable:**\n",
        "\n",
        "`precios_semanales = [22.5, 23.75, 23.00, 24.25]`: Declara una lista llamada precios_semanales que contiene cuatro valores numéricos. Cada valor representa el precio semanal de una acción.\n",
        "\n",
        "**Bucle for:**\n",
        "\n",
        "`for precio in precios_semanales:`: Inicia un bucle for que iterará sobre cada elemento en la lista precios_semanales.\n",
        "\n",
        "`for` es una palabra clave que inicia una iteración.\n",
        "\n",
        "`precio` es una variable que tomará el valor de cada elemento de la lista en cada iteración.\n",
        "\n",
        "in precios_semanales especifica la lista precios_semanales como la secuencia sobre la que se iterará.\n",
        "\n",
        "**Bloque de Código del Bucle for:**\n",
        "\n",
        "`print(f\"El precio es: ${precio}\")`: Dentro del bucle, esta línea de código se ejecutará en cada iteración.\n",
        "\n",
        "Utiliza un f-string para formatear el mensaje que se imprimirá en la consola, incluyendo el valor actual de precio.\n",
        "\n",
        "`f\"El precio es: ${precio}\"` es un f-string que permite insertar el valor de la variable precio directamente en la cadena de texto.\n",
        "\n",
        "**Ejemplo Cotidiano**\n",
        "\n",
        "Imagina que tienes una lista de precios de frutas que compraste durante la semana: [22.5, 23.75, 23.00, 24.25]. Quieres revisar cada precio para ver cuánto pagaste por cada fruta. Entonces, haces lo siguiente:\n",
        "\n",
        "Tomar cada precio uno por uno y decir: \"El precio es: $X\", donde X es el precio específico de la fruta.\n",
        "\n",
        "**En términos de código:**\n",
        "\n",
        "* Bucle for: Recorrerás cada precio en la lista precios_semanales.\n",
        "* Bloque de código del bucle: En cada iteración, imprimirás el precio actual.\n",
        "\n",
        "---"
      ],
      "metadata": {
        "id": "XrK1BxKHH7ij"
      }
    },
    {
      "cell_type": "markdown",
      "source": [
        "# Ejercicio 7: Bucle For con Condicionales\n",
        "Dentro de un bucle for que itera sobre una lista de precios semanales, agrega una condicional que verifique si el precio supera un valor específico (por ejemplo, 23.50). Si la condición se cumple, imprime un mensaje indicando que el precio ha superado el umbral de alerta."
      ],
      "metadata": {
        "id": "eGunyK8dE6oz"
      }
    },
    {
      "cell_type": "code",
      "source": [
        "precios_semanales = [22.5, 23.75, 23.00, 24.25]\n",
        "\n",
        "# Itera sobre los precios y usa una condicional dentro del bucle\n",
        "for precio in precios_semanales:\n",
        "    if precio > 23.50:\n",
        "        print(f\"El precio de ${precio} superó el umbral de alerta\")\n"
      ],
      "metadata": {
        "id": "sJYaL0tyE6-b",
        "colab": {
          "base_uri": "https://localhost:8080/"
        },
        "outputId": "4e16fe20-8f9e-494e-f4a1-eb24b16f7fe1"
      },
      "execution_count": null,
      "outputs": [
        {
          "output_type": "stream",
          "name": "stdout",
          "text": [
            "El precio de $23.75 superó el umbral de alerta\n",
            "El precio de $24.25 superó el umbral de alerta\n"
          ]
        }
      ]
    },
    {
      "cell_type": "markdown",
      "source": [
        "## **Desglose y Explicación**\n",
        "\n",
        "**Asignación de la Variable:**\n",
        "\n",
        "`precios_semanales = [22.5, 23.75, 23.00, 24.25]`: Declara una lista llamada precios_semanales que contiene cuatro valores numéricos. Cada valor representa el precio semanal de una acción.\n",
        "\n",
        "**Bucle for:**\n",
        "\n",
        "`for precio in precios_semanales:`: Inicia un bucle for que iterará sobre cada elemento en la lista precios_semanales.\n",
        "\n",
        "**for** es una palabra clave que inicia una iteración.\n",
        "\n",
        "precio es una variable que tomará el valor de cada elemento de la lista en cada iteración.\n",
        "\n",
        "in precios_semanales especifica la lista precios_semanales como la secuencia sobre la que se iterará.\n",
        "\n",
        "**Condicional if dentro del Bucle:**\n",
        "\n",
        "`if precio > 23.50:`: Dentro del bucle for, esta línea verifica si el valor de precio es mayor que 23.50.\n",
        "\n",
        "**if** es una palabra clave que inicia una declaración condicional.\n",
        "\n",
        "`precio > 23.50` es una expresión que evalúa si precio es mayor que 23.50. Si esta expresión es verdadera, se ejecutará el bloque de código indentado inmediatamente después de la condición.\n",
        "\n",
        "**Bloque de Código if:**\n",
        "\n",
        "`print(f\"El precio de ${precio} superó el umbral de alerta\")`: Si la condición del if es verdadera (es decir, si precio es mayor que 23.50), esta línea de código se ejecutará. Utiliza un f-string para formatear el mensaje que se imprimirá en la consola, incluyendo el valor actual de precio.\n",
        "\n",
        "`f\"El precio de ${precio} superó el umbral de alerta\"` es un f-string que permite insertar el valor de la variable precio directamente en la cadena de texto.\n",
        "\n",
        "**Ejemplo Cotidiano**\n",
        "\n",
        "Imagina que tienes una lista de precios de frutas que compraste durante la semana: [22.5, 23.75, 23.00, 24.25]. Quieres saber si alguno de estos precios supera un umbral específico, digamos $23.50, para que puedas tomar una acción (como revisar por qué está tan caro). Entonces, haces lo siguiente:\n",
        "\n",
        "Revisas cada precio uno por uno.\n",
        "Si un precio es mayor que $23.50, dices: \"El precio de X superó el umbral de alerta\", donde X es el precio específico de la fruta.\n",
        "\n",
        "**En términos de código:**\n",
        "\n",
        "* **Bucle for:** Recorrerás cada precio en la lista precios_semanales.\n",
        "* **Condicional if:** Verificarás si cada precio es mayor que $23.50.\n",
        "* **Bloque de código** if: Si el precio es mayor, imprimirás un mensaje de alerta.\n"
      ],
      "metadata": {
        "id": "AhnUL4OOIpP1"
      }
    },
    {
      "cell_type": "markdown",
      "source": [
        "# Ejercicio 8: Función con Comentarios\n",
        "Define una función llamada calcular_rendimiento que calcule el rendimiento de una inversión dados el precio de compra y el precio de venta. Incluye comentarios detallados dentro de la función para explicar cada parte del código. Usa la función con valores de ejemplo y muestra el rendimiento calculado."
      ],
      "metadata": {
        "id": "nnkqOgZlE7QS"
      }
    },
    {
      "cell_type": "code",
      "source": [
        "# Define una función con comentarios que calcule el rendimiento\n",
        "def calcular_rendimiento(precio_compra, precio_venta):\n",
        "    \"\"\"\n",
        "    Calcula el rendimiento de una inversión dado el precio de compra y el precio de venta.\n",
        "    Retorna el rendimiento como un porcentaje.\n",
        "    \"\"\"\n",
        "    rendimiento = ((precio_venta - precio_compra) / precio_compra) * 100\n",
        "    return rendimiento\n",
        "\n",
        "# Usa la función con valores de ejemplo\n",
        "print(calcular_rendimiento(100, 150))\n"
      ],
      "metadata": {
        "id": "wlw6g8hxE7fa"
      },
      "execution_count": null,
      "outputs": []
    },
    {
      "cell_type": "markdown",
      "source": [
        "## **Desglose y Explicación**\n",
        "\n",
        "**Definición de la Función:**\n",
        "\n",
        "`def calcular_rendimiento(precio_compra, precio_venta):`: Declara una función llamada calcular_rendimiento que acepta dos argumentos:\n",
        "precio_compra (el precio al que se compró la inversión) y precio_venta (el precio al que se vendió la inversión).\n",
        "\n",
        "`def` es una palabra clave que inicia la definición de una función.\n",
        "\n",
        "calcular_rendimiento es el nombre de la función.\n",
        "\n",
        "precio_compra, precio_venta son los parámetros que la función acepta.\n",
        "\n",
        "**Comentarios de la Función (Docstring):**\n",
        "\n",
        "`\"\"\" ... \"\"\"`: Entre estas comillas triples, se proporciona una docstring (cadena de documentación) que describe lo que hace la función. Aquí, la docstring explica que la función calcula el rendimiento de una inversión dado el precio de compra y el precio de venta, y que retorna el rendimiento como un porcentaje.\n",
        "\n",
        "**Cálculo del Rendimiento:**\n",
        "\n",
        "`rendimiento = ((precio_venta - precio_compra) / precio_compra) * 100`: Calcula el rendimiento de la inversión usando la fórmula ((precio_venta - precio_compra) / precio_compra) * 100. El resultado se almacena en la variable `rendimiento`.\n",
        "\n",
        "**Retorno del Resultado:**\n",
        "\n",
        "`return rendimiento`: La función devuelve el valor del rendimiento calculado.\n",
        "Uso de la Función con Valores de Ejemplo:\n",
        "\n",
        "`print(calcular_rendimiento(100, 150))`: Utiliza la función calcular_rendimiento con valores de ejemplo (precio de compra de 100 y precio de venta de 150) y muestra el resultado en la consola utilizando la función print().\n",
        "\n",
        "**Ejemplo Cotidiano**\n",
        "\n",
        "Imagina que compraste una bicicleta por 100 y luego la vendiste por 150. Quieres calcular cuál fue tu ganancia en términos porcentuales:\n",
        "\n",
        "Primero, restas el precio de compra del precio de venta (150 - 100 = 50).\n",
        "Luego, divides esta ganancia (50) por el precio de compra (100) y multiplicas por 100 para obtener el porcentaje de ganancia (50/100 * 100 = 50%).\n",
        "En términos de código:\n",
        "\n",
        "**Función:** La función calcular_rendimiento realiza estos cálculos por ti.\n",
        "Uso de la función: Le das a la función los precios de compra y venta, y la función te devuelve el porcentaje de ganancia.\n",
        "\n",
        "---"
      ],
      "metadata": {
        "id": "0NM2zzYESwxM"
      }
    },
    {
      "cell_type": "markdown",
      "source": [
        "#Ejercicio 9: Comentarios de Bloque\n",
        "Agrega comentarios de bloque a un fragmento de código que calcula el valor total de una inversión. Estos comentarios deben explicar el propósito del código, las variables utilizadas y el resultado esperado. Esto ayudará a cualquier persona que lea el código a entender mejor su funcionamiento."
      ],
      "metadata": {
        "id": "G9yT2RKaE7_z"
      }
    },
    {
      "cell_type": "code",
      "source": [
        "\"\"\"\n",
        "Este bloque de código calcula el valor total de una inversión\n",
        "dado el precio por acción y la cantidad de acciones.\n",
        "\"\"\"\n",
        "\n",
        "# Declarar variables\n",
        "precio_accion = 150.75\n",
        "cantidad_acciones = 10\n",
        "\n",
        "# Calcular el valor total\n",
        "valor_total = precio_accion * cantidad_acciones\n",
        "print(f\"El valor total de la inversión es: ${valor_total}\")\n"
      ],
      "metadata": {
        "id": "vqMLMKHlE8a7"
      },
      "execution_count": null,
      "outputs": []
    },
    {
      "cell_type": "markdown",
      "source": [
        "# Ejercicio 10: Crear y Mostrar un DataFrame\n",
        "Usa la biblioteca Pandas para crear un DataFrame con datos de ejemplo que incluyan fechas y precios de acciones. Luego, utiliza la función head() de Pandas para mostrar las primeras filas del DataFrame y verificar que se haya creado correctamente."
      ],
      "metadata": {
        "id": "7T-rqupuE8vr"
      }
    },
    {
      "cell_type": "code",
      "source": [
        "import pandas as pd\n",
        "\n",
        "# Crear un DataFrame con datos de ejemplo\n",
        "datos = {\n",
        "    'Fecha': ['2023-01-01', '2023-01-02', '2023-01-03'],\n",
        "    'Precio': [150.75, 152.00, 148.50]\n",
        "}\n",
        "\n",
        "df = pd.DataFrame(datos)\n",
        "\n",
        "# Mostrar el DataFrame\n",
        "print(df)\n"
      ],
      "metadata": {
        "id": "035THrICE9Ai",
        "colab": {
          "base_uri": "https://localhost:8080/"
        },
        "outputId": "6a4dbdc4-ba49-4aea-8911-614ae97e653e"
      },
      "execution_count": null,
      "outputs": [
        {
          "output_type": "stream",
          "name": "stdout",
          "text": [
            "        Fecha  Precio\n",
            "0  2023-01-01  150.75\n",
            "1  2023-01-02  152.00\n",
            "2  2023-01-03  148.50\n"
          ]
        }
      ]
    },
    {
      "cell_type": "markdown",
      "source": [
        "## **Desglose y Explicación**\n",
        "\n",
        "**Importación de la Biblioteca Pandas:**\n",
        "\n",
        "**import pandas as pd:** Importa la biblioteca Pandas y la asigna al alias pd. Pandas es una biblioteca poderosa para la manipulación y análisis de datos en Python.\n",
        "\n",
        "**Crear un Diccionario con Datos de Ejemplo:**\n",
        "\n",
        "`datos = { 'Fecha': ['2023-01-01', '2023-01-02', '2023-01-03'], 'Precio': [150.75, 152.00, 148.50] }`: Crea un diccionario llamado datos que contiene dos listas. La clave 'Fecha' tiene una lista de fechas como valores, y la clave 'Precio' tiene una lista de precios como valores. Este diccionario será usado para crear el DataFrame.\n",
        "Crear el DataFrame:\n",
        "\n",
        "`df = pd.DataFrame(datos)`: Utiliza `pd.DataFrame(datos)` para crear un DataFrame llamado df a partir del diccionario datos. Un DataFrame es una estructura de datos tabular que facilita el manejo y análisis de datos.\n",
        "\n",
        "**Mostrar el DataFrame:**\n",
        "\n",
        "`print(df)`: Utiliza la función print() para mostrar el contenido del DataFrame df en la consola. Esto te permite ver los datos tabulados y verificar que se han cargado correctamente.\n",
        "\n",
        "**Ejemplo Cotidiano**\n",
        "\n",
        "Imagina que llevas un registro de precios de un producto durante varios días. Tienes las siguientes entradas:\n",
        "\n",
        "El 1 de enero de 2023, el precio fue $150.75\n",
        "El 2 de enero de 2023, el precio fue $152.00\n",
        "El 3 de enero de 2023, el precio fue $148.50\n",
        "\n",
        "Para organizar estos datos, puedes usar una tabla con dos columnas: una para las fechas y otra para los precios.\n",
        "\n",
        "**En términos de código:**\n",
        "\n",
        "* Diccionario: Primero, pones estos datos en un diccionario donde las claves son 'Fecha' y 'Precio' y los valores son listas de fechas y precios, respectivamente.\n",
        "\n",
        "* DataFrame: Luego, conviertes este diccionario en un DataFrame para facilitar el manejo y análisis de los datos.\n",
        "\n",
        "* Mostrar DataFrame: Finalmente, imprimes el DataFrame para ver la tabla organizada en la consola.\n",
        "\n",
        "---"
      ],
      "metadata": {
        "id": "mzNMpS5BVOY0"
      }
    },
    {
      "cell_type": "markdown",
      "source": [
        "# Ejercicio 11: Descripción Estadística\n",
        "\n",
        "Utiliza la función describe() de Pandas para obtener estadísticas descriptivas de un DataFrame que contenga datos de precios de acciones. Esta función proporciona información útil como la media, desviación estándar, valores mínimos y máximos, entre otros."
      ],
      "metadata": {
        "id": "gcwdlD8DE9Nq"
      }
    },
    {
      "cell_type": "code",
      "source": [
        "import pandas as pd\n",
        "\n",
        "# Crear un DataFrame con datos de ejemplo\n",
        "datos = {\n",
        "    'Fecha': ['2023-01-01', '2023-01-02', '2023-01-03'],\n",
        "    'Precio': [150.75, 152.00, 148.50]\n",
        "}\n",
        "\n",
        "df = pd.DataFrame(datos)\n",
        "\n",
        "\n",
        "# Mostrar la descripción estadística del DataFrame\n",
        "print(df.describe())\n"
      ],
      "metadata": {
        "id": "J4eQC2q1E9ok",
        "colab": {
          "base_uri": "https://localhost:8080/"
        },
        "outputId": "9a372fee-113f-4bd1-cba2-8a40322c91a7"
      },
      "execution_count": null,
      "outputs": [
        {
          "output_type": "stream",
          "name": "stdout",
          "text": [
            "           Precio\n",
            "count    3.000000\n",
            "mean   150.416667\n",
            "std      1.773650\n",
            "min    148.500000\n",
            "25%    149.625000\n",
            "50%    150.750000\n",
            "75%    151.375000\n",
            "max    152.000000\n"
          ]
        }
      ]
    },
    {
      "cell_type": "markdown",
      "source": [
        "## **Desglose y Explicación**\n",
        "\n",
        "**Importación de la Biblioteca Pandas:**\n",
        "\n",
        "import pandas as pd: Importa la biblioteca Pandas y la asigna al alias pd. Pandas es una biblioteca poderosa para la manipulación y análisis de datos en Python.\n",
        "\n",
        "**Crear un Diccionario con Datos de Ejemplo:**\n",
        "\n",
        "`datos = { 'Fecha': ['2023-01-01', '2023-01-02', '2023-01-03'], 'Precio': [150.75, 152.00, 148.50] }`: Crea un diccionario llamado datos que contiene dos listas. La clave 'Fecha' tiene una lista de fechas como valores, y la clave 'Precio' tiene una lista de precios como valores. Este diccionario será usado para crear el DataFrame.\n",
        "\n",
        "**Crear el DataFrame:**\n",
        "\n",
        "`df = pd.DataFrame(datos)`: Utiliza `pd.DataFrame(datos)` para crear un DataFrame llamado df a partir del diccionario datos. Un DataFrame es una estructura de datos tabular que facilita el manejo y análisis de datos.\n",
        "\n",
        "**Mostrar la Descripción Estadística del DataFrame:**\n",
        "\n",
        "`print(df.describe())`: Utiliza la función describe() del DataFrame df para generar estadísticas descriptivas de las columnas numéricas. Estas estadísticas incluyen el conteo de valores, media, desviación estándar, valores mínimos y máximos, y percentiles (25%, 50% y 75%). La función print() muestra estas estadísticas en la consola.\n",
        "\n",
        "\n",
        "**Ejemplo Cotidiano**\n",
        "\n",
        "\n",
        "Imagina que llevas un registro de precios de un producto durante varios días y quieres obtener un resumen de estos datos. Por ejemplo:\n",
        "\n",
        "1. El 1 de enero de 2023, el precio fue 150.75\n",
        "2. El 2 de enero de 2023, el precio fue 152.00\n",
        "3. El 3 de enero de 2023, el precio fue 148.50\n",
        "\n",
        "Quieres saber el precio promedio, el precio mínimo y máximo, y otras estadísticas relevantes.\n",
        "\n",
        "En términos de código:\n",
        "\n",
        "* **Diccionario:** Primero, pones estos datos en un diccionario donde las claves son 'Fecha' y 'Precio' y los valores son listas de fechas y precios, respectivamente.\n",
        "* **DataFrame:** Luego, conviertes este diccionario en un DataFrame para facilitar el manejo y análisis de los datos.\n",
        "* **Descripción Estadística:** Finalmente, usas df.describe() para obtener un resumen estadístico de los precios, que incluye la media, los valores mínimo y máximo, y otros datos útiles.\n",
        "\n",
        "---"
      ],
      "metadata": {
        "id": "Hl1ByB7aE950"
      }
    },
    {
      "cell_type": "markdown",
      "source": [
        "#Ejercicio 12: Visualizar Datos con Matplotlib\n",
        "\n",
        "Usa la biblioteca Matplotlib para crear un gráfico de líneas que visualice los precios de acciones a lo largo del tiempo. Configura las etiquetas del eje x y del eje y, así como el título del gráfico, para que la visualización sea clara y comprensible."
      ],
      "metadata": {
        "id": "XlpRDIm0H1XU"
      }
    },
    {
      "cell_type": "code",
      "source": [
        "import matplotlib.pyplot as plt\n",
        "import pandas as pd\n",
        "\n",
        "# Crear un DataFrame con datos de ejemplo\n",
        "datos = {\n",
        "    'Fecha': ['2023-01-01', '2023-01-02', '2023-01-03'],\n",
        "    'Precio': [150.75, 152.00, 148.50]\n",
        "}\n",
        "\n",
        "df = pd.DataFrame(datos)\n",
        "\n",
        "# Graficar los precios\n",
        "plt.plot(df['Fecha'], df['Precio'])\n",
        "plt.xlabel('Fecha')\n",
        "plt.ylabel('Precio')\n",
        "plt.title('Precio de la Acción a lo Largo del Tiempo')\n",
        "plt.show()\n"
      ],
      "metadata": {
        "id": "DbPSQeLwH1q0",
        "colab": {
          "base_uri": "https://localhost:8080/",
          "height": 472
        },
        "outputId": "fb80f6c1-4d5c-4c86-ac60-322d4c38c6b0"
      },
      "execution_count": null,
      "outputs": [
        {
          "output_type": "display_data",
          "data": {
            "text/plain": [
              "<Figure size 640x480 with 1 Axes>"
            ],
            "image/png": "[encoded data removed]"
          },
          "metadata": {}
        }
      ]
    },
    {
      "cell_type": "markdown",
      "source": [
        "## **Desglose y Explicación**\n",
        "\n",
        "**Importación de las Bibliotecas:**\n",
        "\n",
        "`import matplotlib.pyplot as plt`: Importa la biblioteca Matplotlib y asigna pyplot al alias plt. Matplotlib es una biblioteca poderosa para crear visualizaciones en Python.\n",
        "\n",
        "`import pandas as pd`: Importa la biblioteca Pandas y la asigna al alias pd. Pandas es una biblioteca poderosa para la manipulación y análisis de datos en Python.\n",
        "\n",
        "`datos = { 'Fecha': ['2023-01-01', '2023-01-02', '2023-01-03'], 'Precio': [150.75, 152.00, 148.50] }`: Crea un diccionario llamado datos que contiene dos listas. La clave 'Fecha' tiene una lista de fechas como valores, y la clave 'Precio' tiene una lista de precios como valores. Este diccionario será usado para crear el DataFrame.\n",
        "\n",
        "**Crear el DataFrame:**\n",
        "\n",
        "`df = pd.DataFrame(datos)`: Utiliza `pd.DataFrame(datos)` para crear un DataFrame llamado df a partir del diccionario datos. Un DataFrame es una estructura de datos tabular que facilita el manejo y análisis de datos.\n",
        "\n",
        "**Graficar los Precios:**\n",
        "\n",
        "`plt.plot(df['Fecha'], df['Precio'])`: Utiliza la función plot() de Matplotlib para crear un gráfico de líneas con las fechas en el eje x y los precios en el eje y.\n",
        "`plt.xlabel('Fecha')`: Establece la etiqueta del eje x como 'Fecha'.\n",
        "`plt.ylabel('Precio')`: Establece la etiqueta del eje y como 'Precio'.\n",
        "`plt.title('Precio de la Acción a lo Largo del Tiempo')`: Establece el título del gráfico como 'Precio de la Acción a lo Largo del Tiempo'.\n",
        "`plt.show()`: Muestra el gráfico en una ventana emergente.\n",
        "\n",
        "**Ejemplo Cotidiano**\n",
        "\n",
        "Imagina que llevas un registro de precios de un producto durante varios días y quieres visualizar cómo han cambiado los precios a lo largo del tiempo. Por ejemplo:\n",
        "\n",
        "* El 1 de enero de 2023, el precio fue $150.75\n",
        "* El 2 de enero de 2023, el precio fue $152.00\n",
        "* El 3 de enero de 2023, el precio fue $148.50\n",
        "\n",
        "Quieres ver estos datos en un gráfico para identificar tendencias o patrones.\n",
        "\n",
        "**En términos de código:**\n",
        "\n",
        "* **Diccionario:** Primero, pones estos datos en un diccionario donde las claves son 'Fecha' y 'Precio' y los valores son listas de fechas y precios, respectivamente.\n",
        "* **DataFrame:** Luego, conviertes este diccionario en un DataFrame para facilitar el manejo y análisis de los datos.\n",
        "Graficar Precios: Finalmente, usas Matplotlib para crear un gráfico de líneas que muestra cómo han cambiado los precios a lo largo del tiempo, con etiquetas para los ejes y un título para el gráfico.\n",
        "\n",
        "---"
      ],
      "metadata": {
        "id": "qc4T-OiQb2Uh"
      }
    },
    {
      "cell_type": "markdown",
      "source": [
        "# Ejercicio 13: Identificar Valores Nulos\n",
        "Verifica si hay valores nulos en un DataFrame usando la función isnull() seguida de sum() de Pandas. Esto te permitirá ver el conteo de valores nulos en cada columna del DataFrame y tomar decisiones informadas sobre la limpieza de datos."
      ],
      "metadata": {
        "id": "HSaR2s_rH2B8"
      }
    },
    {
      "cell_type": "code",
      "source": [
        "import matplotlib.pyplot as plt\n",
        "import pandas as pd\n",
        "\n",
        "# Crear un DataFrame con datos de ejemplo\n",
        "datos = {\n",
        "    'Fecha': ['2023-01-01', '2023-01-02', '2023-01-03'],\n",
        "    'Precio': [150.75, 152.00, 148.50]\n",
        "}\n",
        "\n",
        "df = pd.DataFrame(datos)\n",
        "\n",
        "# Verificar si hay valores nulos en el DataFrame\n",
        "print(df.isnull().sum())\n"
      ],
      "metadata": {
        "id": "605LmArRH2V0",
        "colab": {
          "base_uri": "https://localhost:8080/"
        },
        "outputId": "d10e501c-100e-4d2c-8d2a-9ce67872bbe9"
      },
      "execution_count": null,
      "outputs": [
        {
          "output_type": "stream",
          "name": "stdout",
          "text": [
            "Fecha     0\n",
            "Precio    0\n",
            "dtype: int64\n"
          ]
        }
      ]
    },
    {
      "cell_type": "markdown",
      "source": [
        "## **Desglose y Explicación**\n",
        "\n",
        "\n",
        "`df.isnull()`: Esta función de Pandas devuelve un DataFrame del mismo tamaño que df, pero con valores booleanos (True o False). Cada valor será True si el valor correspondiente en df es nulo (es decir, si falta un dato) y False si el valor no es nulo.\n",
        "\n",
        "`df.isnull().sum()`: Después de verificar si hay valores nulos, usamos `.sum()` para sumar los valores True en cada columna. Como True se considera como 1 y False como 0, el resultado será el conteo de valores nulos en cada columna.\n",
        "Impresión del Resultado:\n",
        "\n",
        "`print(df.isnull().sum())`: Utiliza la función print() para mostrar el conteo de valores nulos por columna en la consola. Esto te permite ver si hay datos faltantes en tu DataFrame y en qué columnas se encuentran.\n",
        "\n",
        "**Ejemplo Cotidiano**\n",
        "\n",
        "Imagina que tienes una lista de asistencia de una clase y algunos estudiantes no han rellenado todos los campos. Quieres saber cuántos campos faltan en cada columna, como el número de teléfono o la dirección de correo electrónico. Usas una función para contar los campos vacíos en cada columna y luego imprimes el resultado para ver dónde faltan datos.\n",
        "\n",
        "**En términos de código:**\n",
        "\n",
        "**Verificar Valores Nulos:** Usas df.isnull() para obtener un DataFrame que muestra si cada valor es nulo.\n",
        "\n",
        "**Contar Valores Nulos:** Luego, usas .sum() para contar cuántos valores nulos hay en cada columna.\n",
        "\n",
        "**Impresión del Resultado:** Finalmente, imprimes el conteo de valores nulos para ver fácilmente dónde faltan datos.\n",
        "\n",
        "Este ejemplo muestra cómo usar las funciones isnull() y sum() de la biblioteca Pandas en Python para verificar y contar valores nulos en un DataFrame, y cómo imprimir los resultados para análisis y limpieza de datos.\n",
        "\n",
        "---"
      ],
      "metadata": {
        "id": "ljOZhYqaCJbM"
      }
    },
    {
      "cell_type": "markdown",
      "source": [
        "# Ejercicio 14: Agrupar y Sumar Ventas\n",
        "Crea un DataFrame con datos simulados de ventas que incluyan fechas, categorías de productos y cantidades vendidas. Luego, usa la función groupby() de Pandas para agrupar las ventas por categoría y sumar las cantidades vendidas en cada grupo. Imprime los resultados para ver el total de ventas por categoría."
      ],
      "metadata": {
        "id": "dcEOJIU3H2m8"
      }
    },
    {
      "cell_type": "code",
      "source": [
        "import pandas as pd\n",
        "\n",
        "# Crear datos simulados\n",
        "ventas = {\n",
        "    'Fecha': pd.date_range(start=\"2023-01-01\", periods=10, freq='D'),\n",
        "    'Categoría': ['Electrónica', 'Ropa', 'Alimentos', 'Juguetes', 'Ropa', 'Alimentos', 'Electrónica', 'Juguetes', 'Ropa', 'Alimentos'],\n",
        "    'Cantidad': [1, 2, 3, 4, 2, 1, 3, 2, 4, 3]\n",
        "}\n",
        "df_ventas = pd.DataFrame(ventas)\n",
        "\n",
        "# Agrupar por categoría y sumar\n",
        "ventas_por_categoria = df_ventas.groupby('Categoría')['Cantidad'].sum().reset_index()\n",
        "print(ventas_por_categoria)\n"
      ],
      "metadata": {
        "id": "MIG7RqNrH238",
        "colab": {
          "base_uri": "https://localhost:8080/"
        },
        "outputId": "c142e7c7-3c9d-40e0-d4bd-f6b7e18a1d74"
      },
      "execution_count": null,
      "outputs": [
        {
          "output_type": "stream",
          "name": "stdout",
          "text": [
            "     Categoría  Cantidad\n",
            "0    Alimentos         7\n",
            "1  Electrónica         4\n",
            "2     Juguetes         6\n",
            "3         Ropa         8\n"
          ]
        }
      ]
    },
    {
      "cell_type": "markdown",
      "source": [
        "## **Desglose y Explicación**\n",
        "\n",
        "`ventas = { ... }`: Crea un diccionario llamado ventas con tres claves:\n",
        "`Fecha`: Utiliza `pd.date_range(start=\"2023-01-01\", periods=10, freq='D')` para generar una serie de fechas a partir del 1 de enero de 2023, con una duración de 10 días.\n",
        "\n",
        "`Categoría:` Lista de categorías de productos, como 'Electrónica', 'Ropa', 'Alimentos', y 'Juguetes'\n",
        "\n",
        "`Cantidad`: Lista de cantidades vendidas para cada categoría en las fechas correspondientes.\n",
        "\n",
        "**Crear el DataFrame:**\n",
        "\n",
        "`df_ventas = pd.DataFrame(ventas)`: Utiliza pd.DataFrame(ventas) para crear un DataFrame llamado df_ventas a partir del diccionario ventas. Un DataFrame es una estructura de datos tabular que facilita el manejo y análisis de datos.\n",
        "\n",
        "**Agrupar por Categoría y Sumar:**\n",
        "\n",
        "`ventas_por_categoria = df_ventas.groupby('Categoría')['Cantidad'].sum()`: Utiliza `groupby('Categoría')` para agrupar los datos por la columna 'Categoría', y luego `['Cantidad'].sum()` para sumar las cantidades vendidas en cada categoría. El resultado es una Serie de Pandas con el total de ventas por categoría.\n",
        "\n",
        "`reset_index():`\n",
        "\n",
        "Después de agrupar y sumar las ventas por categoría, el resultado es una Serie de Pandas con la 'Categoría' como índice y la 'Cantidad' como valores.\n",
        "\n",
        "Usar reset_index() convierte esta Serie en un DataFrame con dos columnas: 'Categoría' y 'Cantidad', eliminando el índice y colocándolo como una columna.\n",
        "\n",
        "**Impresión del Resultado:**\n",
        "\n",
        "`print(ventas_por_categoria)`: Utiliza la función print() para mostrar los totales de ventas por categoría en la consola. Esto te permite ver fácilmente las categorías que tienen mayores ventas.\n",
        "\n",
        "---\n",
        "\n",
        "\n",
        "\n",
        "**Ejemplo Cotidiano**\n",
        "\n",
        "Imagina que tienes un registro de ventas de una tienda durante 10 días. Tienes información sobre las fechas, las categorías de productos vendidos (como Electrónica, Ropa, Alimentos, y Juguetes), y las cantidades vendidas cada día. Quieres saber cuántos productos se han vendido en total por cada categoría.\n",
        "\n",
        "**En términos de código:**\n",
        "\n",
        "**Crear Datos Simulados:** Primero, simulas los datos creando un diccionario con fechas, categorías y cantidades.\n",
        "\n",
        "**Crear el DataFrame:** Luego, conviertes este diccionario en un DataFrame para facilitar el manejo y análisis de los datos.\n",
        "\n",
        "**Agrupar y Sumar:** Utilizas groupby para agrupar las ventas por categoría y sum para obtener el total de ventas por cada categoría.\n",
        "\n",
        "**Impresión del Resultado:** Finalmente, imprimes los resultados para ver los totales de ventas por categoría.\n",
        "\n",
        "Este ejemplo muestra cómo usar las funciones groupby y sum de la biblioteca Pandas en Python para agrupar datos y calcular sumas, y cómo imprimir los resultados para análisis de ventas."
      ],
      "metadata": {
        "id": "CzXZHLnYU50u"
      }
    },
    {
      "cell_type": "markdown",
      "source": [
        "# Ejercicio 15: Visualizar Agrupación\n",
        "Usa Matplotlib para crear un gráfico de barras que visualice las ventas por categoría. Configura las etiquetas del eje x y del eje y, así como el título del gráfico, para que la visualización sea clara y fácil de interpretar."
      ],
      "metadata": {
        "id": "F-IjRIlXH3O8"
      }
    },
    {
      "cell_type": "code",
      "source": [
        "import pandas as pd\n",
        "\n",
        "# Crear datos simulados\n",
        "ventas = {\n",
        "    'Fecha': pd.date_range(start=\"2023-01-01\", periods=10, freq='D'),\n",
        "    'Categoría': ['Electrónica', 'Ropa', 'Alimentos', 'Juguetes', 'Ropa', 'Alimentos', 'Electrónica', 'Juguetes', 'Ropa', 'Alimentos'],\n",
        "    'Cantidad': [1, 2, 3, 4, 2, 1, 3, 2, 4, 3]\n",
        "}\n",
        "df_ventas = pd.DataFrame(ventas)\n",
        "\n",
        "# Agrupar por categoría y sumar\n",
        "ventas_por_categoria = df_ventas.groupby('Categoría')['Cantidad'].sum().reset_index()\n",
        "print(ventas_por_categoria)\n",
        "\n",
        "\n",
        "# Crear un gráfico de barras para las ventas por categoría\n",
        "ventas_por_categoria.plot(kind='bar')\n",
        "plt.xlabel('Categoría')\n",
        "plt.ylabel('Cantidad Vendida')\n",
        "plt.title('Ventas por Categoría')\n",
        "plt.show()\n"
      ],
      "metadata": {
        "id": "umAb2qI9H3ft",
        "colab": {
          "base_uri": "https://localhost:8080/",
          "height": 555
        },
        "outputId": "d3fc49dd-1e76-453f-f31a-21aaed89daf9"
      },
      "execution_count": null,
      "outputs": [
        {
          "output_type": "stream",
          "name": "stdout",
          "text": [
            "     Categoría  Cantidad\n",
            "0    Alimentos         7\n",
            "1  Electrónica         4\n",
            "2     Juguetes         6\n",
            "3         Ropa         8\n"
          ]
        },
        {
          "output_type": "display_data",
          "data": {
            "text/plain": [
              "<Figure size 640x480 with 1 Axes>"
            ],
            "image/png": "[encoded data removed]"
          },
          "metadata": {}
        }
      ]
    },
    {
      "cell_type": "markdown",
      "source": [
        "## **Desglose y Explicación**\n",
        "\n",
        "**Importación de Bibliotecas:**\n",
        "\n",
        "import pandas as pd: Importa la biblioteca Pandas y la asigna al alias pd. Pandas se utiliza para la manipulación y análisis de datos.\n",
        "import matplotlib.pyplot as plt: Importa la biblioteca Matplotlib y asigna pyplot al alias plt. Matplotlib se utiliza para crear visualizaciones de datos.\n",
        "\n",
        "---\n",
        "\n",
        "**Creación de Datos Simulados:**\n",
        "\n",
        "`ventas = { ... }`: Crea un diccionario llamado ventas que contiene tres claves:\n",
        "'Fecha': Utiliza pd.date_range(start=\"2023-01-01\", periods=10, freq='D') para generar una serie de fechas a partir del 1 de enero de 2023, con una duración de 10 días.\n",
        "\n",
        "* 'Categoría': Lista de categorías de productos, como 'Electrónica', 'Ropa',\n",
        "* 'Alimentos', y 'Juguetes'.\n",
        "* 'Cantidad': Lista de cantidades vendidas para cada categoría en las fechas correspondientes.\n",
        "\n",
        "**Creación del DataFrame:**\n",
        "\n",
        "df_ventas = pd.DataFrame(ventas): Utiliza pd.DataFrame(ventas) para crear un DataFrame llamado df_ventas a partir del diccionario ventas.\n",
        "\n",
        "**Agrupación por Categoría y Suma:**\n",
        "\n",
        "`ventas_por_categoria = df_ventas.groupby('Categoría')['Cantidad'].sum().reset_index()`: Utiliza groupby('Categoría') para agrupar los datos por la columna 'Categoría', y luego ['Cantidad'].sum() para sumar las cantidades vendidas en cada categoría.\n",
        "\n",
        "El método `reset_index() `convierte la Serie resultante en un DataFrame con dos columnas: 'Categoría' y 'Cantidad'.\n",
        "Impresión del Resultado:\n",
        "\n",
        "`print(ventas_por_categoria)`: Utiliza la función print() para mostrar los totales de ventas por categoría en la consola.\n",
        "\n",
        "---\n",
        "---\n",
        "\n",
        "**Creación del Gráfico de Barras:**\n",
        "\n",
        "`ventas_por_categoria.plot(kind='bar', x='Categoría', y='Cantidad')`: Utiliza la función plot() del DataFrame para crear un gráfico de barras.\n",
        "\n",
        "`kind='bar'` especifica que el gráfico será de tipo barras.\n",
        "\n",
        "`x='Categoría'` y `y='Cantidad'` especifican las columnas que se utilizarán para los ejes x e y, respectivamente.\n",
        "\n",
        "**Configuración del Gráfico:**\n",
        "\n",
        "1. `plt.xlabel('Categoría')`: Establece la etiqueta del eje x como 'Categoría'.\n",
        "\n",
        "2. `plt.ylabel('Cantidad Vendida')`: Establece la etiqueta del eje y como 'Cantidad Vendida'.\n",
        "3. `plt.title('Ventas por Categoría')`: Establece el título del gráfico como 'Ventas por Categoría'.\n",
        "4. `plt.show()`: Muestra el gráfico en una ventana emergente.\n",
        "\n",
        "**Ejemplo Cotidiano**\n",
        "\n",
        "Imagina que tienes un registro de ventas de una tienda durante 10 días. Tienes información sobre las fechas, las categorías de productos vendidos (como Electrónica, Ropa, Alimentos y Juguetes), y las cantidades vendidas cada día. Quieres saber cuántos productos se han vendido en total por cada categoría y visualizar estos datos en un gráfico de barras.\n",
        "\n",
        "**En términos de código:**\n",
        "\n",
        "**Crear Datos Simulados:** Simulas los datos creando un diccionario con fechas, categorías y cantidades.\n",
        "\n",
        "**Crear el DataFrame:** Conviertes este diccionario en un DataFrame para facilitar el manejo y análisis de los datos.\n",
        "\n",
        "**Agrupar y Sumar:** Utilizas groupby para agrupar las ventas por categoría y sum para obtener el total de ventas por cada categoría.\n",
        "\n",
        "**Crear Gráfico de Barras:** Utilizas Matplotlib para crear un gráfico de barras que muestra los totales de ventas por categoría, con etiquetas para los ejes y un título para el gráfico.\n",
        "\n",
        "---"
      ],
      "metadata": {
        "id": "IMV4frcdkJ74"
      }
    },
    {
      "cell_type": "markdown",
      "source": [
        "#Ejercicio 16: Crear una Función Completa\n",
        "\n",
        "Crea una función llamada total_ventas_por_categoria que acepte un DataFrame y una categoría como argumentos, y devuelva el total de ventas para esa categoría. Usa la función con un DataFrame de ejemplo y muestra el resultado."
      ],
      "metadata": {
        "id": "eT4enGqEILzN"
      }
    },
    {
      "cell_type": "code",
      "source": [
        "import pandas as pd\n",
        "\n",
        "# Crear datos simulados\n",
        "ventas = {\n",
        "    'Fecha': pd.date_range(start=\"2023-01-01\", periods=10, freq='D'),\n",
        "    'Categoría': ['Electrónica', 'Ropa', 'Alimentos', 'Juguetes', 'Ropa', 'Alimentos', 'Electrónica', 'Juguetes', 'Ropa', 'Alimentos'],\n",
        "    'Cantidad': [1, 2, 3, 4, 2, 1, 3, 2, 4, 3]\n",
        "}\n",
        "df_ventas = pd.DataFrame(ventas)\n",
        "\n",
        "\n",
        "# Crear una función que acepte un DataFrame y una categoría, y devuelva el total de ventas\n",
        "def total_ventas_por_categoria(df, categoria):\n",
        "    total = df[df['Categoría'] == categoria]['Cantidad'].sum()\n",
        "    return f\"{categoria} es de {total}\"\n",
        "\n",
        "# Probar la función\n",
        "print(f\"La cantidad vendida de la categoria {total_ventas_por_categoria(df_ventas, 'Ropa')}\")\n"
      ],
      "metadata": {
        "id": "eZAHdIWcIMZl",
        "colab": {
          "base_uri": "https://localhost:8080/"
        },
        "outputId": "30e2f74c-bff6-4b85-8f2f-9837a6c17092"
      },
      "execution_count": null,
      "outputs": [
        {
          "output_type": "stream",
          "name": "stdout",
          "text": [
            "La cantidad vendida de la categoria Ropa es de 8\n"
          ]
        }
      ]
    },
    {
      "cell_type": "markdown",
      "source": [
        "## **Desglose y Explicación**\n",
        "\n",
        "\n",
        "**Crear Datos Simulados:**\n",
        "\n",
        "`ventas = { 'Fecha': pd.date_range(start=\"2023-01-01\", periods=10, freq='D'), 'Categoría': ['Electrónica', 'Ropa', 'Alimentos', 'Juguetes', 'Ropa', 'Alimentos', 'Electrónica', 'Juguetes', 'Ropa', 'Alimentos'], 'Cantidad': [1, 2, 3, 4, 2, 1, 3, 2, 4, 3] }:`\n",
        "\n",
        "**Crea un diccionario llamado ventas que contiene tres claves:**\n",
        "\n",
        "* `'Fecha'`: Utiliza pd.date_range(start=\"2023-01-01\", periods=10, freq='D') para * generar una serie de fechas a partir del 1 de enero de 2023, con una duración de 10 días.\n",
        "\n",
        "* `'Categoría'`: Lista de categorías de productos, como 'Electrónica', 'Ropa', 'Alimentos', y 'Juguetes'.\n",
        "\n",
        "* `'Cantidad'`: Lista de cantidades vendidas para cada categoría en las fechas correspondientes.\n",
        "\n",
        "**Creación del DataFrame:**\n",
        "\n",
        "`df_ventas = pd.DataFrame(ventas)`:\n",
        "`Utiliza pd.DataFrame(ventas)` para crear un DataFrame llamado df_ventas a partir del diccionario ventas.\n",
        "\n",
        "**Definición de la Función:**\n",
        "\n",
        "`def total_ventas_por_categoria(df, categoria):`:\n",
        "Declara una función llamada total_ventas_por_categoria que acepta dos parámetros: df (un DataFrame) y categoria (una categoría de producto).\n",
        "\n",
        "`total = df[df['Categoría'] == categoria]['Cantidad'].sum()`:\n",
        "1. Filtra el DataFrame df para seleccionar solo las filas donde la columna 'Categoría' es igual a categoria.\n",
        "\n",
        "2. Selecciona la columna 'Cantidad' de las filas filtradas y calcula la suma de estas cantidades.\n",
        "\n",
        "3. Almacena el resultado en la variable total.\n",
        "\n",
        "4. `return f\"{categoria} es de {total}\":`\n",
        "Utiliza un f-string para crear una cadena de texto que incluye tanto la categoría (pasada como argumento) como el total de ventas (calculado dentro de la función).\n",
        "Esta cadena se devuelve al lugar donde se llamó a la función.\n",
        "Probar la Función:\n",
        "\n",
        "`print(f\"La cantidad vendida de la categoría {total_ventas_por_categoria(df_ventas, 'Ropa')}\"):`\n",
        "Llama a la función total_ventas_por_categoria con el DataFrame df_ventas y la categoría 'Ropa'.\n",
        "Utiliza la función print() y un f-string para mostrar el mensaje completo en la consola.\n",
        "\n",
        "**Ejemplo Cotidiano**\n",
        "\n",
        "Imagina que tienes un registro de ventas de una tienda durante 10 días. Tienes información sobre las fechas, las categorías de productos vendidos (como Electrónica, Ropa, Alimentos y Juguetes), y las cantidades vendidas cada día. Quieres saber cuántas unidades de 'Ropa' se han vendido en total y mostrar esta información de manera legible.\n",
        "\n",
        "**En términos de código:**\n",
        "\n",
        "**Crear Datos Simulados:** Simulas los datos creando un diccionario con fechas, categorías y cantidades.\n",
        "\n",
        "**Crear el DataFrame:** Conviertes este diccionario en un DataFrame para facilitar el manejo y análisis de los datos.\n",
        "\n",
        "**Definir la Función:** Creas una función que acepta un DataFrame y una categoría, filtra el DataFrame para esa categoría y suma las cantidades vendidas. Luego, la función devuelve un mensaje que incluye la categoría y el total de ventas.\n",
        "Probar la Función: Llamas a la función con la categoría 'Ropa' y utilizas un f-string para mostrar el mensaje completo en la consola.\n",
        "\n",
        "\n",
        "---"
      ],
      "metadata": {
        "id": "J4XYYqrXAiZX"
      }
    },
    {
      "cell_type": "markdown",
      "source": [
        "# Ejercicio 17: Automatización con Funciones\n",
        "Crea una función llamada graficar_ventas_por_categoria que automatice la creación de gráficos de barras para cualquier DataFrame de ventas. La función debe agrupar los datos por categoría, sumar las ventas y luego crear el gráfico correspondiente. Prueba la función con un DataFrame de ejemplo."
      ],
      "metadata": {
        "id": "WGI9uE4QIMos"
      }
    },
    {
      "cell_type": "code",
      "source": [
        "import pandas as pd\n",
        "\n",
        "# Crear datos simulados\n",
        "ventas = {\n",
        "    'Fecha': pd.date_range(start=\"2023-01-01\", periods=10, freq='D'),\n",
        "    'Categoría': ['Electrónica', 'Ropa', 'Alimentos', 'Juguetes', 'Ropa', 'Alimentos', 'Electrónica', 'Juguetes', 'Ropa', 'Alimentos'],\n",
        "    'Cantidad': [1, 2, 3, 4, 2, 1, 3, 2, 4, 3]\n",
        "}\n",
        "df_ventas = pd.DataFrame(ventas)\n",
        "\n",
        "# Crear una función que automatice la creación de gráficos de barras para cualquier DataFrame\n",
        "def graficar_ventas_por_categoria(df):\n",
        "    ventas_por_categoria = df.groupby('Categoría')['Cantidad'].sum()\n",
        "    ventas_por_categoria.plot(kind='bar')\n",
        "    plt.xlabel('Categoría')\n",
        "    plt.ylabel('Cantidad Vendida')\n",
        "    plt.title('Ventas por Categoría')\n",
        "    plt.show()\n",
        "\n",
        "# Probar la función\n",
        "graficar_ventas_por_categoria(df_ventas)\n"
      ],
      "metadata": {
        "id": "g_YLC5Y-IM4E",
        "colab": {
          "base_uri": "https://localhost:8080/",
          "height": 536
        },
        "outputId": "31b7e7a6-a80f-4338-cb52-d13f10d50f9b"
      },
      "execution_count": null,
      "outputs": [
        {
          "output_type": "display_data",
          "data": {
            "text/plain": [
              "<Figure size 640x480 with 1 Axes>"
            ],
            "image/png": "[encoded data removed]"
          },
          "metadata": {}
        }
      ]
    },
    {
      "cell_type": "markdown",
      "source": [
        "**Desglose y Explicación**\n",
        "\n",
        "\n",
        "**Creación de Datos Simulados:**\n",
        "\n",
        "`ventas = { 'Fecha': pd.date_range(start=\"2023-01-01\", periods=10, freq='D'), 'Categoría': ['Electrónica', 'Ropa', 'Alimentos', 'Juguetes', 'Ropa', 'Alimentos', 'Electrónica', 'Juguetes', 'Ropa', 'Alimentos'], 'Cantidad': [1, 2, 3, 4, 2, 1, 3, 2, 4, 3] }`:\n",
        "\n",
        "**Crea un diccionario llamado ventas que contiene tres claves:**\n",
        "\n",
        "1. 'Fecha': Utiliza pd.date_range(start=\"2023-01-01\", periods=10, freq='D') para generar una serie de fechas a partir del 1 de enero de 2023, con una duración de 10 días.\n",
        "\n",
        "2. 'Categoría': Lista de categorías de productos, como 'Electrónica', 'Ropa', 'Alimentos', y 'Juguetes'.\n",
        "\n",
        "3. 'Cantidad': Lista de cantidades vendidas para cada categoría en las fechas correspondientes.\n",
        "\n",
        "**Creación del DataFrame:**\n",
        "\n",
        "`df_ventas = pd.DataFrame(ventas)`:\n",
        "Utiliza pd.DataFrame(ventas) para crear un DataFrame llamado df_ventas a partir del diccionario ventas.\n",
        "\n",
        "**Definición de la Función:**\n",
        "\n",
        "`def graficar_ventas_por_categoria(df):`:\n",
        "\n",
        "Declara una función llamada graficar_ventas_por_categoria que acepta un parámetro df (un DataFrame).\n",
        "\n",
        "`ventas_por_categoria = df.groupby('Categoría')['Cantidad'].sum()`:\n",
        "Agrupa los datos del DataFrame df por la columna 'Categoría' y calcula la suma de las cantidades vendidas para cada categoría. El resultado es una Serie de Pandas con el total de ventas por categoría.\n",
        "\n",
        "\n",
        "`ventas_por_categoria.plot(kind='bar')`:\n",
        "\n",
        "Utiliza la función `plot()` de la Serie ventas_por_categoria para crear un gráfico de barras.\n",
        "\n",
        "`kind='bar'` especifica que el gráfico será de tipo barras.\n",
        "\n",
        "`plt.xlabel('Categoría')`:\n",
        "Establece la etiqueta del eje x como 'Categoría'.\n",
        "\n",
        "`plt.ylabel('Cantidad Vendida')`:\n",
        "Establece la etiqueta del eje y como 'Cantidad Vendida'.\n",
        "\n",
        "`plt.title('Ventas por Categoría')`:\n",
        "Establece el título del gráfico como 'Ventas por Categoría'.\n",
        "\n",
        "`plt.show()`:\n",
        "\n",
        "Muestra el gráfico en una ventana emergente.\n",
        "\n",
        "**Probar la Función:**\n",
        "\n",
        "`graficar_ventas_por_categoria(df_ventas)`:\n",
        "Llama a la función graficar_ventas_por_categoria con el DataFrame df_ventas.\n",
        "\n",
        "\n",
        "**Ejemplo Cotidiano**\n",
        "\n",
        "Imagina que tienes un registro de ventas de una tienda durante 10 días. Tienes información sobre las fechas, las categorías de productos vendidos (como Electrónica, Ropa, Alimentos y Juguetes), y las cantidades vendidas cada día. Quieres visualizar los totales de ventas por categoría en un gráfico de barras.\n",
        "\n",
        "**n términos de código:**\n",
        "\n",
        "* Crear Datos Simulados: Simulas los datos creando un diccionario con fechas, categorías y cantidades.\n",
        "\n",
        "* Crear el DataFrame: Conviertes este diccionario en un DataFrame para facilitar el manejo y análisis de los datos.\n",
        "\n",
        "* Definir la Función: Creas una función que acepta un DataFrame, agrupa las ventas por categoría, calcula las sumas, y genera un gráfico de barras con Matplotlib.\n",
        "\n",
        "* Probar la Función: Llamas a la función con el DataFrame y visualizas el gráfico de barras que muestra los totales de ventas por categoría.+\n",
        "\n",
        "---"
      ],
      "metadata": {
        "id": "92KSwpMWP7iP"
      }
    },
    {
      "cell_type": "markdown",
      "source": [
        "#Ejercicio 18: Introducción a Machine Learning\n",
        "Crea datos simulados que incluyan años y precios de acciones. Divide los datos en conjuntos de entrenamiento y prueba, y usa la biblioteca scikit-learn para entrenar un modelo de regresión lineal. Evalúa el rendimiento del modelo usando el error cuadrático medio."
      ],
      "metadata": {
        "id": "TEIF5DLDINFt"
      }
    },
    {
      "cell_type": "code",
      "source": [
        "from sklearn.model_selection import train_test_split\n",
        "from sklearn.linear_model import LinearRegression\n",
        "from sklearn.metrics import mean_squared_error\n",
        "\n",
        "# Crear datos simulados\n",
        "data = {\n",
        "    'Años': [1, 2, 3, 4, 5, 6, 7, 8, 9, 10],\n",
        "    'Precio': [10, 12, 15, 20, 25, 30, 32, 35, 40, 50]\n",
        "}\n",
        "df_ml = pd.DataFrame(data)\n",
        "\n",
        "# Dividir los datos en conjuntos de entrenamiento y prueba\n",
        "X = df_ml[['Años']]\n",
        "y = df_ml['Precio']\n",
        "X_train, X_test, y_train, y_test = train_test_split(X, y, test_size=0.2, random_state=42)\n",
        "\n",
        "# Crear y entrenar el modelo\n",
        "modelo = LinearRegression()\n",
        "modelo.fit(X_train, y_train)\n",
        "\n",
        "# Hacer predicciones y evaluar el modelo\n",
        "y_pred = modelo.predict(X_test)\n",
        "mse = mean_squared_error(y_test, y_pred)\n",
        "print(f'Error cuadrático medio: {mse}')\n"
      ],
      "metadata": {
        "id": "K97O8cTaINWM",
        "colab": {
          "base_uri": "https://localhost:8080/"
        },
        "outputId": "02577c99-2509-4a84-dafd-6424c2a43fb0"
      },
      "execution_count": null,
      "outputs": [
        {
          "output_type": "stream",
          "name": "stdout",
          "text": [
            "Error cuadrático medio: 2.5119277645659883\n"
          ]
        }
      ]
    },
    {
      "cell_type": "markdown",
      "source": [
        "**Desglose y Explicación**\n",
        "\n",
        "**Importación de Bibliotecas:**\n",
        "\n",
        "`from sklearn.model_selection import train_test_split`: Importa la función train_test_split de sklearn para dividir los datos en conjuntos de entrenamiento y prueba.\n",
        "\n",
        "`from sklearn.linear_model import LinearRegression:` Importa la clase LinearRegression de sklearn para crear y entrenar un modelo de regresión lineal.\n",
        "\n",
        "`from sklearn.metrics import mean_squared_error`: Importa la función mean_squared_error de sklearn para evaluar el rendimiento del modelo.\n",
        "import pandas as pd: Importa la biblioteca Pandas y la asigna al alias pd. Pandas es utilizada para la manipulación y análisis de datos.\n",
        "\n",
        "**Creación de Datos Simulados:**\n",
        "\n",
        "`data = { 'Años': [1, 2, 3, 4, 5, 6, 7, 8, 9, 10], 'Precio': [10, 12, 15, 20, 25, 30, 32, 35, 40, 50] }`:\n",
        "Crea un diccionario llamado data que contiene dos claves: 'Años' y 'Precio'.\n",
        "'Años' es una lista de años desde 1 hasta 10.\n",
        "'Precio' es una lista de precios correspondientes a cada año.\n",
        "\n",
        "**Creación del DataFrame:**\n",
        "\n",
        "`df_ml = pd.DataFrame(data)`:\n",
        "Utiliza pd.DataFrame(data) para crear un DataFrame llamado df_ml a partir del diccionario data.\n",
        "\n",
        "**División de los Datos:**\n",
        "\n",
        "`X = df_ml[['Años']]`: Selecciona la columna 'Años' como las características (features) y la almacena en X.\n",
        "\n",
        "`y = df_ml['Precio']`: Selecciona la columna 'Precio' como la variable objetivo (target) y la almacena en y.\n",
        "\n",
        "`X_train, X_test, y_train, y_test = train_test_split(X, y, test_size=0.2, random_state=42)`:\n",
        "\n",
        "`Utiliza train_test_split` para dividir los datos en conjuntos de entrenamiento y prueba.\n",
        "\n",
        "`test_size=0.2` especifica que el 20% de los datos se utilizarán para el conjunto de prueba.\n",
        "\n",
        "`random_state=42 `asegura que la división de los datos sea reproducible.\n",
        "\n",
        "**Creación y Entrenamiento del Modelo:**\n",
        "\n",
        "`modelo = LinearRegression()`: Crea una instancia de la clase LinearRegression y la almacena en la variable modelo.\n",
        "\n",
        "`modelo.fit(X_train, y_train)`: Entrena el modelo utilizando los datos de entrenamiento (X_train y y_train).\n",
        "\n",
        "\n",
        "**Predicciones y Evaluación del Modelo:**\n",
        "\n",
        "`y_pred = modelo.predict(X_test)`: Utiliza el modelo entrenado para hacer predicciones sobre el conjunto de prueba (X_test).\n",
        "\n",
        "`mse = mean_squared_error(y_test, y_pred)`: Calcula el error cuadrático medio (MSE) entre los valores reales (y_test) y las predicciones (y_pred).\n",
        "\n",
        "`print(f'Error cuadrático medio: {mse}')`: Imprime el valor del error cuadrático medio en la consola.\n",
        "\n",
        "**Ejemplo Cotidiano**\n",
        "\n",
        "Imagina que quieres predecir el precio de un producto en función de los años usando un modelo de regresión lineal. Tienes datos históricos sobre los precios del producto durante 10 años. Primero, divides los datos en conjuntos de entrenamiento y prueba, entrenas el modelo con los datos de entrenamiento, haces predicciones sobre el conjunto de prueba y finalmente evalúas el rendimiento del modelo calculando el error cuadrático medio.\n",
        "\n",
        "**En términos de código:**\n",
        "\n",
        "Crear Datos Simulados: Simulas los datos creando un diccionario con años y precios.\n",
        "\n",
        "Crear el DataFrame: Conviertes este diccionario en un DataFrame para facilitar el manejo y análisis de los datos.\n",
        "\n",
        "Dividir los Datos: Utilizas train_test_split para dividir los datos en conjuntos de entrenamiento y prueba.\n",
        "\n",
        "Crear y Entrenar el Modelo: Creas y entrenas un modelo de regresión lineal con los datos de entrenamiento.\n",
        "\n",
        "Hacer Predicciones y Evaluar el Modelo: Utilizas el modelo para hacer predicciones sobre el conjunto de prueba y calculas el error cuadrático medio para evaluar el rendimiento del modelo.\n",
        "\n",
        "\n",
        "\n",
        "---"
      ],
      "metadata": {
        "id": "nm6VwJMHTdlG"
      }
    },
    {
      "cell_type": "markdown",
      "source": [
        "# Ejercicio 19: Predicción de Precios Futuros\n",
        "Usa el modelo de regresión lineal entrenado en el ejercicio anterior para predecir el precio de una acción después de un número determinado de años. Muestra el precio predicho para confirmar que el modelo funciona correctamente."
      ],
      "metadata": {
        "id": "4kBzjrMYINmE"
      }
    },
    {
      "cell_type": "code",
      "source": [
        "from sklearn.model_selection import train_test_split\n",
        "from sklearn.linear_model import LinearRegression\n",
        "from sklearn.metrics import mean_squared_error\n",
        "\n",
        "# Crear datos simulados\n",
        "data = {\n",
        "    'Años': [1, 2, 3, 4, 5, 6, 7, 8, 9, 10],\n",
        "    'Precio': [10, 12, 15, 20, 25, 30, 32, 35, 40, 50]\n",
        "}\n",
        "df_ml = pd.DataFrame(data)\n",
        "\n",
        "# Dividir los datos en conjuntos de entrenamiento y prueba\n",
        "X = df_ml[['Años']]\n",
        "y = df_ml['Precio']\n",
        "X_train, X_test, y_train, y_test = train_test_split(X, y, test_size=0.2, random_state=42)\n",
        "\n",
        "# Crear y entrenar el modelo\n",
        "modelo = LinearRegression()\n",
        "modelo.fit(X_train, y_train)\n",
        "\n",
        "# Hacer predicciones y evaluar el modelo\n",
        "y_pred = modelo.predict(X_test)\n",
        "mse = mean_squared_error(y_test, y_pred)\n",
        "print(f'Error cuadrático medio: {mse}')\n",
        "\n",
        "########################################################################################\n",
        "\n",
        "# Predecir el precio después de 11 años\n",
        "precio_futuro = modelo.predict([[11]])\n",
        "print(f'El precio predicho después de 11 años es: {precio_futuro[0]:.2f}')\n"
      ],
      "metadata": {
        "id": "OPgCpCMHIOEd",
        "colab": {
          "base_uri": "https://localhost:8080/"
        },
        "outputId": "471570af-7898-4006-9b02-fcf0f3f412fc"
      },
      "execution_count": null,
      "outputs": [
        {
          "output_type": "stream",
          "name": "stdout",
          "text": [
            "Error cuadrático medio: 2.5119277645659883\n",
            "El precio predicho después de 11 años es: 50.88\n"
          ]
        },
        {
          "output_type": "stream",
          "name": "stderr",
          "text": [
            "/usr/local/lib/python3.10/dist-packages/sklearn/base.py:439: UserWarning: X does not have valid feature names, but LinearRegression was fitted with feature names\n",
            "  warnings.warn(\n"
          ]
        }
      ]
    },
    {
      "cell_type": "markdown",
      "source": [
        "**Desglose y Explicación**\n",
        "\n",
        "`**Importación de Bibliotecas:**`\n",
        "\n",
        "`from sklearn.model_selection import train_test_split`: Importa la función train_test_split de sklearn para dividir los datos en conjuntos de entrenamiento y prueba.\n",
        "\n",
        "`from sklearn.linear_model import LinearRegression`: Importa la clase LinearRegression de sklearn para crear y entrenar un modelo de regresión lineal.\n",
        "\n",
        "`from sklearn.metrics import mean_squared_error`: Importa la función mean_squared_error de sklearn para evaluar el rendimiento del modelo.\n",
        "import pandas as pd: Importa la biblioteca Pandas y la asigna al alias pd. Pandas es utilizada para la manipulación y análisis de datos.\n",
        "Creación de Datos Simulados:\n",
        "\n",
        "`data = { 'Años': [1, 2, 3, 4, 5, 6, 7, 8, 9, 10], 'Precio': [10, 12, 15, 20, 25, 30, 32, 35, 40, 50] }`:\n",
        "Crea un diccionario llamado data que contiene dos claves: 'Años' y 'Precio'.\n",
        "'Años' es una lista de años desde 1 hasta 10.\n",
        "'Precio' es una lista de precios correspondientes a cada año.\n",
        "Creación del DataFrame:\n",
        "\n",
        "`df_ml = pd.DataFrame(data)`:\n",
        "Utiliza `pd.DataFrame(data)` para crear un DataFrame llamado df_ml a partir del diccionario data.\n",
        "\n",
        "**División de los Datos:**\n",
        "\n",
        "`X = df_ml[['Años']]`: Selecciona la columna 'Años' como las características (features) y la almacena en X.\n",
        "\n",
        "`y = df_ml['Precio']`: Selecciona la columna 'Precio' como la variable objetivo (target) y la almacena en y.\n",
        "\n",
        "`X_train, X_test, y_train, y_test = train_test_split(X, y, test_size=0.2, random_state=42)`:\n",
        "Utiliza train_test_split para dividir los datos en conjuntos de entrenamiento y prueba.\n",
        "\n",
        "`test_size=0.2` especifica que el 20% de los datos se utilizarán para el conjunto de prueba.\n",
        "\n",
        "`random_state=42` asegura que la división de los datos sea reproducible.\n",
        "Creación y Entrenamiento del Modelo:\n",
        "\n",
        "`modelo = LinearRegression()`: Crea una instancia de la clase LinearRegression y la almacena en la variable modelo.\n",
        "\n",
        "`modelo.fit(X_train, y_train)`: Entrena el modelo utilizando los datos de entrenamiento (X_train y y_train).\n",
        "\n",
        "**Predicciones y Evaluación del Modelo:**\n",
        "\n",
        "`y_pred = modelo.predict(X_test)`: Utiliza el modelo entrenado para hacer predicciones sobre el conjunto de prueba (X_test).\n",
        "\n",
        "`mse = mean_squared_error(y_test, y_pred)`: Calcula el error cuadrático medio (MSE) entre los valores reales (y_test) y las predicciones (y_pred).\n",
        "\n",
        "`print(f'Error cuadrático medio: {mse}')`: Imprime el valor del error cuadrático medio en la consola.\n",
        "\n",
        "**Ejemplo Cotidiano**\n",
        "\n",
        "Imagina que quieres predecir el precio de un producto en función de los años usando un modelo de regresión lineal. Tienes datos históricos sobre los precios del producto durante 10 años. Primero, divides los datos en conjuntos de entrenamiento y prueba, entrenas el modelo con los datos de entrenamiento, haces predicciones sobre el conjunto de prueba y finalmente evalúas el rendimiento del modelo calculando el error cuadrático medio.\n",
        "\n",
        "**En términos de código:**\n",
        "\n",
        "**Crear Datos Simulados:** Simulas los datos creando un diccionario con años y precios.\n",
        "\n",
        "**Crear el DataFrame:** Conviertes este diccionario en un DataFrame para facilitar el manejo y análisis de los datos.\n",
        "\n",
        "**Dividir los Datos:** Utilizas train_test_split para dividir los datos en conjuntos de entrenamiento y prueba.\n",
        "\n",
        "**Crear y Entrenar el Modelo:** Creas y entrenas un modelo de regresión lineal con los datos de entrenamiento.\n",
        "\n",
        "**Hacer Predicciones y Evaluar el Modelo:** Utilizas el modelo para hacer predicciones sobre el conjunto de prueba y calculas el error cuadrático medio para evaluar el rendimiento del modelo.\n",
        "\n",
        "\n",
        "\n",
        "\n",
        "\n",
        "\n",
        "\n"
      ],
      "metadata": {
        "id": "v19-zXywXqEb"
      }
    },
    {
      "cell_type": "markdown",
      "source": [
        "# Ejercicio 20: Visualización de Resultados de Machine Learning\n",
        "Crea un gráfico que visualice los datos originales y las predicciones del modelo de regresión lineal. Usa Matplotlib para crear un gráfico de dispersión para los datos originales y una línea de regresión para las predicciones del modelo. Configura las etiquetas y el título del gráfico para una visualización clara.\n",
        "\n"
      ],
      "metadata": {
        "id": "d60e5AtLIOk8"
      }
    },
    {
      "cell_type": "code",
      "source": [
        "from sklearn.model_selection import train_test_split\n",
        "from sklearn.linear_model import LinearRegression\n",
        "from sklearn.metrics import mean_squared_error\n",
        "\n",
        "# Crear datos simulados\n",
        "data = {\n",
        "    'Años': [1, 2, 3, 4, 5, 6, 7, 8, 9, 10],\n",
        "    'Precio': [10, 12, 15, 20, 25, 30, 32, 35, 40, 50]\n",
        "}\n",
        "df_ml = pd.DataFrame(data)\n",
        "\n",
        "# Dividir los datos en conjuntos de entrenamiento y prueba\n",
        "X = df_ml[['Años']]\n",
        "y = df_ml['Precio']\n",
        "X_train, X_test, y_train, y_test = train_test_split(X, y, test_size=0.2, random_state=42)\n",
        "\n",
        "# Crear y entrenar el modelo\n",
        "modelo = LinearRegression()\n",
        "modelo.fit(X_train, y_train)\n",
        "\n",
        "# Hacer predicciones y evaluar el modelo\n",
        "y_pred = modelo.predict(X_test)\n",
        "mse = mean_squared_error(y_test, y_pred)\n",
        "\n",
        "\n",
        "# Graficar los datos originales y las predicciones\n",
        "plt.scatter(X, y, color='blue', label='Datos Originales')\n",
        "plt.plot(X, modelo.predict(X), color='red', label='Línea de Regresión')\n",
        "plt.xlabel('Años')\n",
        "plt.ylabel('Precio')\n",
        "plt.title('Predicción de Precios con Machine Learning')\n",
        "plt.legend()\n",
        "plt.show()\n"
      ],
      "metadata": {
        "id": "UvhdKq0qIO0U",
        "colab": {
          "base_uri": "https://localhost:8080/",
          "height": 472
        },
        "outputId": "227779bf-340f-4188-efe2-060e8ce0bfec"
      },
      "execution_count": null,
      "outputs": [
        {
          "output_type": "display_data",
          "data": {
            "text/plain": [
              "<Figure size 640x480 with 1 Axes>"
            ],
            "image/png": "[encoded data removed]"
          },
          "metadata": {}
        }
      ]
    },
    {
      "cell_type": "markdown",
      "source": [
        "## **Desglose y Explicación**\n",
        "\n",
        "**Importación de Bibliotecas:**\n",
        "\n",
        "**`import pandas as pd`**: Importa la biblioteca Pandas y la asigna al alias pd para la manipulación y análisis de datos.\n",
        "\n",
        "`from sklearn.model_selection import train_test_split`: Importa la función train_test_split de sklearn para dividir los datos en conjuntos de entrenamiento y prueba.\n",
        "\n",
        "`from sklearn.linear_model import LinearRegression`: Importa la clase LinearRegression de sklearn para crear y entrenar un modelo de regresión lineal.\n",
        "\n",
        "`from sklearn.metrics import mean_squared_error`: Importa la función mean_squared_error de sklearn para evaluar el rendimiento del modelo.\n",
        "\n",
        "`import matplotlib.pyplot as plt`: Importa la biblioteca Matplotlib y asigna pyplot al alias plt para crear visualizaciones.\n",
        "Creación de Datos Simulados:\n",
        "\n",
        "`data = { 'Años': [1, 2, 3, 4, 5, 6, 7, 8, 9, 10], 'Precio': [10, 12, 15, 20, 25, 30, 32, 35, 40, 50] }`:\n",
        "\n",
        "Crea un diccionario llamado data que contiene dos claves: 'Años' y 'Precio'.\n",
        "\n",
        "1. 'Años' es una lista de años desde 1 hasta 10.\n",
        "2. 'Precio' es una lista de precios correspondientes a cada año.\n",
        "Creación del DataFrame:\n",
        "\n",
        "d`f_ml = pd.DataFrame(data)`:\n",
        "Utiliza pd.DataFrame(data) para crear un DataFrame llamado df_ml a partir del diccionario data.\n",
        "\n",
        "**División de los Datos:**\n",
        "\n",
        "`X = df_ml[['Años']]`: Selecciona la columna 'Años' como las características (features) y la almacena en X.\n",
        "\n",
        "`y = df_ml['Precio']`: Selecciona la columna 'Precio' como la variable objetivo (target) y la almacena en y.\n",
        "\n",
        "`X_train, X_test, y_train, y_test = train_test_split(X, y, test_size=0.2, random_state=42)`:\n",
        "\n",
        "Utiliza `train_test_split` para dividir los datos en conjuntos de entrenamiento y prueba.\n",
        "\n",
        "`test_size=0.2` especifica que el 20% de los datos se utilizarán para el conjunto de prueba.\n",
        "\n",
        "`random_state=42` asegura que la división de los datos sea reproducible.\n",
        "\n",
        "Creación y Entrenamiento del Modelo:\n",
        "\n",
        "`modelo = LinearRegression()`: Crea una instancia de la clase LinearRegression y la almacena en la variable modelo.\n",
        "\n",
        "`modelo.fit(X_train, y_train)`: Entrena el modelo utilizando los datos de entrenamiento (X_train y y_train).\n",
        "\n",
        "**Predicciones y Evaluación del Modelo:**\n",
        "\n",
        "`y_pred = modelo.predict(X_test)`: Utiliza el modelo entrenado para hacer predicciones sobre el conjunto de prueba (X_test).\n",
        "\n",
        "`mse = mean_squared_error(y_test, y_pred)`: Calcula el error cuadrático medio (MSE) entre los valores reales (y_test) y las predicciones (y_pred).\n",
        "\n",
        "`print(f'Error cuadrático medio: {mse}')`: Imprime el valor del error cuadrático medio en la consola.\n",
        "\n",
        "\n",
        "**Graficar los Datos Originales y las Predicciones:**\n",
        "\n",
        "`plt.scatter(X, y, color='blue', label='Datos Originales')`: Crea un gráfico de dispersión de los datos originales en azul.\n",
        "\n",
        "`plt.plot(X, modelo.predict(X), color='red', label='Línea de Regresión')`: Dibuja la línea de regresión en rojo utilizando las predicciones del modelo.\n",
        "\n",
        "`plt.xlabel('Años')`: Establece la etiqueta del eje x como 'Años'.\n",
        "\n",
        "`plt.ylabel('Precio')`: Establece la etiqueta del eje y como 'Precio'.\n",
        "\n",
        "`plt.title('Predicción de Precios con Machine Learning')`: Establece el título del gráfico como 'Predicción de Precios con Machine Learning'.\n",
        "\n",
        "`plt.legend()`: Muestra la leyenda del gráfico.\n",
        "\n",
        "`plt.show()`: Muestra el gráfico en una ventana emergente.\n",
        "\n",
        "**Ejemplo Cotidiano**\n",
        "\n",
        "Imagina que quieres predecir el precio de un producto en función de los años usando un modelo de regresión lineal. Tienes datos históricos sobre los precios del producto durante 10 años. Primero, divides los datos en conjuntos de entrenamiento y prueba, entrenas el modelo con los datos de entrenamiento, haces predicciones sobre el conjunto de prueba y finalmente evalúas el rendimiento del modelo calculando el error cuadrático medio. Luego, visualizas los datos originales y la línea de regresión en un gráfico.\n",
        "\n"
      ],
      "metadata": {
        "id": "XoH02MJugPld"
      }
    }
  ]
}
