{
  "nbformat": 4,
  "nbformat_minor": 0,
  "metadata": {
    "colab": {
      "provenance": [],
      "authorship_tag": "ABX9TyO3prPZgtJw/4kiOYPRy2Ww",
      "include_colab_link": true
    },
    "kernelspec": {
      "name": "python3",
      "display_name": "Python 3"
    },
    "language_info": {
      "name": "python"
    }
  },
  "cells": [
    {
      "cell_type": "markdown",
      "metadata": {
        "id": "view-in-github",
        "colab_type": "text"
      },
      "source": [
        "<a href=\"https://colab.research.google.com/github/ArturoFinpytech/Python/blob/main/3.%20Proyectos_practicos/3_Aplicaciones_Reales_de_NumPy_y_Pandas.ipynb\" target=\"_parent\"><img src=\"https://colab.research.google.com/assets/colab-badge.svg\" alt=\"Open In Colab\"/></a>"
      ]
    },
    {
      "cell_type": "markdown",
      "source": [
        "# **1. Introducción Aplicaciones Reales: Proyectos Prácticos con Python**\n",
        "\n",
        "En esta sección, nos enfocaremos en aplicar y expandir tus conocimientos y habilidades en análisis de datos y visualización a través de una serie de proyectos prácticos. Estos ejercicios están diseñados para aumentar en complejidad y te desafiarán a utilizar las herramientas y técnicas aprendidas de manera integrada y creativa."
      ],
      "metadata": {
        "id": "Z5Lfi0thFxRA"
      }
    },
    {
      "cell_type": "code",
      "source": [],
      "metadata": {
        "id": "6ybbgmpOv3TL"
      },
      "execution_count": null,
      "outputs": []
    },
    {
      "cell_type": "markdown",
      "source": [
        "# **2. Proyectos.**"
      ],
      "metadata": {
        "id": "5Bgz1VH2GI5X"
      }
    },
    {
      "cell_type": "markdown",
      "source": [
        "## **2.1. Proyecto 1: Análisis de Datos de Ventas**\n",
        "\n",
        "Para desarrollar el Proyecto 1 sobre el análisis de datos de ventas, vamos a simular un conjunto de datos de ventas que incluye la fecha de venta, categoría del producto, cantidad vendida, precio y cliente. Este ejemplo te guiará a través de cada una de las tareas propuestas, desde la carga y limpieza de los datos hasta la identificación de tendencias, productos más vendidos y clientes más importantes."
      ],
      "metadata": {
        "id": "H-MxQ6J-GRv9"
      }
    },
    {
      "cell_type": "markdown",
      "source": [
        "### **2.2.1. Simulación del Conjunto de Datos**\n",
        "\n",
        "Para efectos de este ejemplo, vamos a crear un conjunto de datos simulado utilizando Pandas y NumPy:\n"
      ],
      "metadata": {
        "id": "VNX_bKUzGvpD"
      }
    },
    {
      "cell_type": "markdown",
      "source": [
        "#### **2.2.1.1 Importación de Bibliotecas**\n",
        "\n",
        "Se importan Pandas y NumPy, dos de las bibliotecas más populares para la manipulación de datos y cálculos numéricos en Python."
      ],
      "metadata": {
        "id": "0guOTEORIAfk"
      }
    },
    {
      "cell_type": "code",
      "source": [
        "import pandas as pd\n",
        "import numpy as np\n"
      ],
      "metadata": {
        "id": "XfzJwXfcILVq"
      },
      "execution_count": null,
      "outputs": []
    },
    {
      "cell_type": "markdown",
      "source": [
        "#### **2.2.1.2 Simulación del data frame**\n",
        "\n",
        "El siguiente codigo nos ayudara a generar los datos necesarios para iniciar el proyecto."
      ],
      "metadata": {
        "id": "49TwwqOnINXq"
      }
    },
    {
      "cell_type": "code",
      "source": [
        "# Fijar la semilla para reproducibilidad\n",
        "np.random.seed(42)\n",
        "\n",
        "# Fechas aleatorias dentro de un año\n",
        "fechas = pd.date_range(start=\"2023-01-01\", end=\"2023-12-31\", periods=1000)\n",
        "\n",
        "# Simulación de datos\n",
        "datos = {\n",
        "    'Fecha': np.random.choice(fechas, 1000),\n",
        "    'Categoría': np.random.choice(['Electrónica', 'Ropa', 'Alimentos', 'Juguetes'], 1000),\n",
        "    'Cantidad': np.random.randint(1, 10, 1000),\n",
        "    'Precio': np.random.uniform(10, 500, 1000).round(2),\n",
        "    'Cliente': np.random.choice(['Cliente A', 'Cliente B', 'Cliente C', 'Cliente D'], 1000)\n",
        "}\n",
        "\n",
        "df_ventas = pd.DataFrame(datos)\n"
      ],
      "metadata": {
        "id": "zUg_FyhVHTkM"
      },
      "execution_count": null,
      "outputs": []
    },
    {
      "cell_type": "markdown",
      "source": [
        "#### **2.2.1.3 Visualización del DataFrame.**\n",
        "\n",
        "Para verificar que los datos se han creado correctamente, visualizamos las primeras filas del DataFrame.\n",
        "\n",
        "**Desglose y Explicación:**\n",
        "\n",
        "\n",
        "1. **df_ventas:**\n",
        "\n",
        "Este es nuestro DataFrame que contiene todos los datos de ventas.\n",
        "\n",
        "2. **.head():**\n",
        "\n",
        "El punto seguido de head() es una función de Pandas que muestra las primeras 5 filas del DataFrame por defecto.\n",
        "\n",
        "Esto es útil para ver una vista previa rápida de los datos y asegurarnos de que se han cargado correctamente.\n",
        "\n",
        "3. **print():**\n",
        "\n",
        "La función print() en Python se utiliza para mostrar información en la consola.\n",
        "\n",
        "\n",
        "\n",
        "**Ejemplo Cotidiano:**\n",
        "\n",
        "Imagina que tienes un cuaderno con una lista larga de nombres de estudiantes y sus calificaciones. Quieres ver los primeros 5 estudiantes para asegurarte de que todo está en orden. Abres el cuaderno y miras las primeras 5 filas de la lista. Eso es exactamente lo que hace df_ventas.head(), y print() muestra esa vista en tu pantalla."
      ],
      "metadata": {
        "id": "7VY_rUMjKFcr"
      }
    },
    {
      "cell_type": "code",
      "source": [
        "#En este caso, muestra las primeras 5 filas del DataFrame en la consola para que podamos visualizarlas.\n",
        "print(df_ventas.head())\n"
      ],
      "metadata": {
        "colab": {
          "base_uri": "https://localhost:8080/"
        },
        "id": "3xZooGv2KE20",
        "outputId": "e0ce23f8-5317-4100-a34d-47be0642508c"
      },
      "execution_count": null,
      "outputs": [
        {
          "output_type": "stream",
          "name": "stdout",
          "text": [
            "                          Fecha    Categoría  Cantidad  Precio    Cliente  \\\n",
            "0 2023-02-07 03:57:50.270270270  Electrónica         7   15.41  Cliente B   \n",
            "1 2023-06-08 11:57:50.270270270  Electrónica         1  377.28  Cliente A   \n",
            "2 2023-11-10 08:28:49.729729732    Alimentos         7  381.75  Cliente A   \n",
            "3 2023-04-09 09:04:51.891891892     Juguetes         5  342.41  Cliente B   \n",
            "4 2023-02-08 14:56:34.594594594  Electrónica         6  380.57  Cliente D   \n",
            "\n",
            "       Mes  \n",
            "0  2023-02  \n",
            "1  2023-06  \n",
            "2  2023-11  \n",
            "3  2023-04  \n",
            "4  2023-02  \n"
          ]
        }
      ]
    },
    {
      "cell_type": "markdown",
      "source": [
        "### **2.2.2. Carga y Limpieza de los Datos.**\n",
        "\n",
        "Ya que hemos creado el DataFrame, revisemos si hay datos faltantes y limpiemos los datos si es necesario.\n",
        "\n",
        "Desglose y Explicación\n",
        "df_ventas:\n",
        "\n",
        "Este es nuestro DataFrame que contiene todos los datos de ventas.\n",
        ".isnull():\n",
        "\n",
        "El punto seguido de isnull() es una función de Pandas que verifica cada elemento del DataFrame y devuelve True si el valor es nulo (es decir, si falta un dato) y False si el valor no es nulo.\n",
        ".sum():\n",
        "\n",
        "Después de isnull(), usamos .sum(), que suma todos los valores True en cada columna del DataFrame. Como True se considera como 1 y False como 0, la suma nos da el número de valores nulos en cada columna.\n",
        "print():\n",
        "\n",
        "La función print() muestra los resultados en la consola. En este caso, muestra cuántos valores nulos hay en cada columna del DataFrame.\n",
        "Ejemplo Cotidiano\n",
        "Imagina que tienes una hoja de cálculo con información de empleados, pero algunos campos están vacíos. Quieres saber cuántos campos vacíos hay en cada columna (por ejemplo, cuántos empleados no tienen número de teléfono registrado). isnull().sum() cuenta esos campos vacíos y print() te muestra los resultados."
      ],
      "metadata": {
        "id": "AiEp6NgSxP5V"
      }
    },
    {
      "cell_type": "code",
      "source": [
        "# Verificación de datos faltantes\n",
        "print(df_ventas.isnull().sum())\n",
        "\n",
        "# Tipo de datos\n",
        "print(df_ventas.dtypes)\n"
      ],
      "metadata": {
        "colab": {
          "base_uri": "https://localhost:8080/"
        },
        "id": "cO2T8yOSxVIc",
        "outputId": "d6fecbc8-8097-4437-f291-1eff1065105e"
      },
      "execution_count": null,
      "outputs": [
        {
          "output_type": "stream",
          "name": "stdout",
          "text": [
            "Fecha        0\n",
            "Categoría    0\n",
            "Cantidad     0\n",
            "Precio       0\n",
            "Cliente      0\n",
            "Mes          0\n",
            "dtype: int64\n",
            "Fecha        datetime64[ns]\n",
            "Categoría            object\n",
            "Cantidad              int64\n",
            "Precio              float64\n",
            "Cliente              object\n",
            "Mes               period[M]\n",
            "dtype: object\n"
          ]
        }
      ]
    },
    {
      "cell_type": "markdown",
      "source": [
        "### **2.2.3. Análisis Exploratorio**\n",
        "Realizaremos un análisis exploratorio básico para entender las características principales del conjunto de datos."
      ],
      "metadata": {
        "id": "HmabCM1UxULj"
      }
    },
    {
      "cell_type": "markdown",
      "source": [
        "### **2.2.3.1 Resumen Estadístico de los Datos**\n",
        "Utilizamos .describe() para obtener estadísticas descriptivas de los datos numéricos."
      ],
      "metadata": {
        "id": "iTJ-r2Rtxlmj"
      }
    },
    {
      "cell_type": "code",
      "source": [
        "resumen_estadístico = df_ventas.describe()\n",
        "print(resumen_estadístico)\n"
      ],
      "metadata": {
        "id": "vqXGi7YJx1Xz"
      },
      "execution_count": null,
      "outputs": []
    },
    {
      "cell_type": "markdown",
      "source": [
        "#### **2.2.3.2 Cantidad de Ventas por Categoría**\n",
        "Contamos la cantidad de ventas por categoría de producto."
      ],
      "metadata": {
        "id": "3Ib386xIx4qD"
      }
    },
    {
      "cell_type": "code",
      "source": [
        "ventas_por_categoría = df_ventas['Categoría'].value_counts()\n",
        "print(ventas_por_categoría)\n"
      ],
      "metadata": {
        "colab": {
          "base_uri": "https://localhost:8080/"
        },
        "id": "uDuE3DSwx-VD",
        "outputId": "697310cc-4d6f-4c72-9ff5-fd711971f14a"
      },
      "execution_count": null,
      "outputs": [
        {
          "output_type": "stream",
          "name": "stdout",
          "text": [
            "Categoría\n",
            "Electrónica    264\n",
            "Alimentos      261\n",
            "Ropa           261\n",
            "Juguetes       214\n",
            "Name: count, dtype: int64\n"
          ]
        }
      ]
    },
    {
      "cell_type": "markdown",
      "source": [
        "### **2.2.4. Visualización de Tendencias de Ventas**"
      ],
      "metadata": {
        "id": "yMaYVBR0yAnj"
      }
    },
    {
      "cell_type": "markdown",
      "source": [
        "#### **2.2.4.1 Agregar Columna 'Mes'**\n",
        "Extraemos el mes de cada fecha de venta para analizar las tendencias mensuales."
      ],
      "metadata": {
        "id": "pCGuq4vMyE30"
      }
    },
    {
      "cell_type": "code",
      "source": [
        "df_ventas['Mes'] = df_ventas['Fecha'].dt.to_period('M')\n"
      ],
      "metadata": {
        "id": "tnDSvrbmyLBT"
      },
      "execution_count": null,
      "outputs": []
    },
    {
      "cell_type": "markdown",
      "source": [
        "#### **2.2.4.2 Agrupación de Ventas por Mes.**\n",
        "\n",
        "Sumamos la cantidad vendida por mes."
      ],
      "metadata": {
        "id": "2xZ9RUIH8DAW"
      }
    },
    {
      "cell_type": "code",
      "source": [
        "ventas_por_mes = df_ventas.groupby('Mes')['Cantidad'].sum()\n"
      ],
      "metadata": {
        "id": "pMspcdg68Jw3"
      },
      "execution_count": null,
      "outputs": []
    },
    {
      "cell_type": "markdown",
      "source": [
        "#### **2.2.4.3 Crear Gráfico de Ventas Mensuales**\n",
        "Utilizamos Matplotlib para visualizar las ventas mensuales."
      ],
      "metadata": {
        "id": "fgR-UXFl8L3d"
      }
    },
    {
      "cell_type": "code",
      "source": [
        "import matplotlib.pyplot as plt\n",
        "\n",
        "plt.figure(figsize=(10, 6))\n",
        "ventas_por_mes.plot(title='Ventas por Mes')\n",
        "plt.xlabel('Mes')\n",
        "plt.ylabel('Cantidad Vendida')\n",
        "plt.show()\n"
      ],
      "metadata": {
        "colab": {
          "base_uri": "https://localhost:8080/",
          "height": 580
        },
        "id": "P_gmilY28QUF",
        "outputId": "9f40414e-d37e-4a93-9c16-9233fb2cdc81"
      },
      "execution_count": null,
      "outputs": [
        {
          "output_type": "display_data",
          "data": {
            "text/plain": [
              "<Figure size 1000x600 with 1 Axes>"
            ],
            "image/png": "[encoded data removed]"
          },
          "metadata": {}
        }
      ]
    },
    {
      "cell_type": "markdown",
      "source": [
        "### **2.2.5. Identificación de Productos y Clientes Importantes**"
      ],
      "metadata": {
        "id": "s-tv5Anf8SjN"
      }
    },
    {
      "cell_type": "markdown",
      "source": [
        "#### **2.2.5.1 Productos Más Vendidos**\n",
        "Agrupamos los datos por categoría y sumamos las cantidades vendidas para identificar los productos más vendidos."
      ],
      "metadata": {
        "id": "5jk1Gv3_8Xkt"
      }
    }
  ]
}