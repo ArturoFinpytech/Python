{
  "nbformat": 4,
  "nbformat_minor": 0,
  "metadata": {
    "colab": {
      "provenance": [],
      "toc_visible": true,
      "collapsed_sections": [
        "RheKxUVsFdRQ",
        "4KWENlIkF2Wr"
      ],
      "authorship_tag": "ABX9TyPdVCd8IAPAcCwE6uDu0SNu",
      "include_colab_link": true
    },
    "kernelspec": {
      "name": "python3",
      "display_name": "Python 3"
    },
    "language_info": {
      "name": "python"
    }
  },
  "cells": [
    {
      "cell_type": "markdown",
      "metadata": {
        "id": "view-in-github",
        "colab_type": "text"
      },
      "source": [
        "<a href=\"https://colab.research.google.com/github/ArturoFinpytech/Python/blob/main/2.%20Numpy%20y%20Pandas/2_Introducci%C3%B3n_a_NumPy_y_Pandas.ipynb\" target=\"_parent\"><img src=\"https://colab.research.google.com/assets/colab-badge.svg\" alt=\"Open In Colab\"/></a>"
      ]
    },
    {
      "cell_type": "markdown",
      "source": [
        "# **1. Introducción a NumPy y Pandas.**\n",
        "\n",
        "\n",
        "En esta sección nos adentraremos en el mundo del análisis de datos con Python, explorando dos de las bibliotecas más poderosas y populares en este campo: NumPy y Pandas. Aprenderás a manipular, procesar y analizar datos de manera eficiente, lo que es esencial para cualquier proyecto de ciencia de datos.\n",
        "\n",
        "\n"
      ],
      "metadata": {
        "id": "RheKxUVsFdRQ"
      }
    },
    {
      "cell_type": "markdown",
      "source": [
        "## **Objetivos de Aprendizaje:**\n",
        "1.\tComprender los conceptos fundamentales de las bibliotecas NumPy y Pandas.\n",
        "2.\tAprender a manejar arrays y matrices con NumPy.\n",
        "3.\tRealizar operaciones de manipulación y análisis de datos con Pandas.\n",
        "4.\tAplicar estos conocimientos en la limpieza, análisis y visualización de datos reales.\n",
        "\n",
        "---"
      ],
      "metadata": {
        "id": "A1fdz4Mw1paN"
      }
    },
    {
      "cell_type": "markdown",
      "source": [
        "# **2. NumPy - Manipulación de Arrays y Matrices**"
      ],
      "metadata": {
        "id": "4KWENlIkF2Wr"
      }
    },
    {
      "cell_type": "markdown",
      "source": [
        "##**2.1.\t¿Qué es NumPy?**\n",
        "\n",
        "**NumPy** que significa **Numerical Python**, es una biblioteca fundamental para la computación científica en Python. Proporciona soporte para trabajar con arrays multidimensionales, lo cual es esencial dado que estas estructuras de datos son más eficientes y rápidas para operaciones numéricas que las listas de Python estándar. Además, NumPy ofrece una amplia gama de herramientas y funciones matemáticas que permiten realizar operaciones complejas sobre estos arrays con facilidad y eficiencia.\n",
        "\n",
        "**Importancia en el Análisis de Datos**\n",
        "\n",
        "NumPy se ha establecido como uno de los paquetes más importantes para cualquier científico de datos o analista por varias razones:\n",
        "\n",
        "\n",
        "\n",
        "1.   ***Eficiencia y Velocidad:*** Al estar implementado en C y operar en arrays, NumPy permite que operaciones que involucran grandes volúmenes de datos se realicen de manera mucho más rápida que lo que sería posible con listas puras de Python.\n",
        "2.   ***Funcionalidad Matemática:*** Desde operaciones básicas como sumas y multiplicaciones hasta funciones estadísticas, de álgebra lineal y de transformadas de Fourier, NumPy es la base sobre la que se construyen análisis más complejos.\n",
        "3. ***Compatibilidad con otras Bibliotecas:*** NumPy sirve como la piedra angular para otras bibliotecas de alto nivel especializadas en análisis de datos y machine learning, como Pandas, Matplotlib, Scikit-learn, TensorFlow y muchas más. Estas bibliotecas utilizan los arrays de NumPy como estructuras de datos fundamentales para sus operaciones.\n",
        "4. ***Manipulación de Datos:*** La capacidad de indexación, segmentación y remodelación rápida de arrays hace de NumPy una herramienta poderosa para la manipulación y limpieza de datos.\n"
      ],
      "metadata": {
        "id": "T6zb4JJIGUgO"
      }
    },
    {
      "cell_type": "markdown",
      "source": [
        "##**2.2. Comenzando con NumPy**"
      ],
      "metadata": {
        "id": "wxf4FU2fH2Ha"
      }
    },
    {
      "cell_type": "markdown",
      "source": [
        "Para comenzar a usar NumPy, primero debemos asegurarnos de que está instalado. En la mayoría de los casos, NumPy viene incluido con distribuciones de Python orientadas a la ciencia de datos, como Anaconda. Sin embargo, también se puede instalar fácilmente utilizando pip, el sistema de gestión de paquetes de Python:\n",
        "\n",
        "`pip install numpy`\n",
        "\n",
        "Una vez instalado, podemos importar NumPy en nuestros scripts o notebooks de Jupyter con la siguiente línea de código:\n",
        "\n",
        "`import numpy as np`\n",
        "\n",
        "El alias **\"np\"** es una convención ampliamente adoptada para simplificar la llamada a las funciones de NumPy en nuestro código.\n",
        "\n",
        "**Ejemplo Básico**\n",
        "\n",
        "Aquí tienes un ejemplo simple que muestra cómo crear un array NumPy y calcular su media:\n",
        "\n",
        "\n",
        "\n"
      ],
      "metadata": {
        "id": "dRpydZAjH_Xr"
      }
    },
    {
      "cell_type": "code",
      "source": [
        "import numpy as np\n",
        "\n",
        "# Crear un array NumPy\n",
        "mi_array = np.array([1, 2, 3, 4, 5])\n",
        "\n",
        "# Calcular la media del array\n",
        "media = np.mean(mi_array)\n",
        "\n",
        "print(\"La media es:\", media)\n"
      ],
      "metadata": {
        "id": "fJbQ2-c9IiMC",
        "colab": {
          "base_uri": "https://localhost:8080/"
        },
        "outputId": "2ebf661e-3e95-4e60-9c35-efbac95afbdf"
      },
      "execution_count": null,
      "outputs": [
        {
          "output_type": "stream",
          "name": "stdout",
          "text": [
            "La media es: 3.0\n"
          ]
        }
      ]
    },
    {
      "cell_type": "markdown",
      "source": [
        "Este ejemplo ilustra la simplicidad y potencia de NumPy para realizar operaciones matemáticas básicas. A medida que avancemos, exploraremos más funciones y técnicas avanzadas que demuestran por qué NumPy es tan valioso en el análisis de datos."
      ],
      "metadata": {
        "id": "SFRHvZM0IkBx"
      }
    },
    {
      "cell_type": "markdown",
      "source": [
        "##2.3. **Arrays en NumPy**\n",
        "\n",
        "NumPy ofrece varias maneras de crear arrays, que son estructuras de datos centrales de esta biblioteca. Un array en NumPy es similar a una lista en Python, pero está optimizado para cálculos numéricos y permite almacenar elementos de un mismo tipo, facilitando operaciones matemáticas eficientes.\n",
        "\n",
        "\n",
        "\n"
      ],
      "metadata": {
        "id": "IZbw6vt7JGLV"
      }
    },
    {
      "cell_type": "markdown",
      "source": [
        "###***2.3.1. Arrays Unidimensionales:***\n",
        "\n",
        "Puedes crear un array unidimensional a partir de una lista de Python utilizando la función np.array()."
      ],
      "metadata": {
        "id": "Q7PT-4BwKXIR"
      }
    },
    {
      "cell_type": "code",
      "source": [
        "import numpy as np\n",
        "\n",
        "# Creación de un array unidimensional\n",
        "mi_array_unidimensional = np.array([1, 2, 3, 4, 5])\n",
        "print(mi_array_unidimensional)\n"
      ],
      "metadata": {
        "id": "q18EsQBxJWfO",
        "colab": {
          "base_uri": "https://localhost:8080/"
        },
        "outputId": "55e83829-f992-4158-a222-1ee89d2c6c28"
      },
      "execution_count": null,
      "outputs": [
        {
          "output_type": "stream",
          "name": "stdout",
          "text": [
            "[1 2 3 4 5]\n"
          ]
        }
      ]
    },
    {
      "cell_type": "markdown",
      "source": [
        "###***2.3.2. Arrays Multidimensionales:***\n",
        "\n",
        "De manera similar, para crear un array multidimensional (por ejemplo, matrices), puedes pasar una lista de listas a la función np.array()."
      ],
      "metadata": {
        "id": "i8Vj08q_JYDe"
      }
    },
    {
      "cell_type": "code",
      "source": [
        "# Creación de un array bidimensional (matriz)\n",
        "mi_array_bidimensional = np.array([[1, 2, 3], [4, 5, 6], [7, 8, 9]])\n",
        "print(mi_array_bidimensional)\n"
      ],
      "metadata": {
        "colab": {
          "base_uri": "https://localhost:8080/"
        },
        "id": "fNxWUCskJpIv",
        "outputId": "b7a4fdb2-00d0-448f-d1aa-5c9886beaf30"
      },
      "execution_count": null,
      "outputs": [
        {
          "output_type": "stream",
          "name": "stdout",
          "text": [
            "[[1 2 3]\n",
            " [4 5 6]\n",
            " [7 8 9]]\n"
          ]
        }
      ]
    },
    {
      "cell_type": "markdown",
      "source": [
        "###***2.3.3. Manipulación de Arrays:***\n",
        "\n",
        "Una vez creados, NumPy ofrece una amplia gama de operaciones para manipular estos arrays.\n",
        "\n",
        "***Indexación y Segmentación:***\n",
        "\n",
        "Accede a elementos específicos o subconjuntos de un array de la misma manera que lo harías con listas en Python, pero con capacidades extendidas."
      ],
      "metadata": {
        "id": "XTHdma4OKxcr"
      }
    },
    {
      "cell_type": "code",
      "source": [
        "# Accediendo al primer elemento del array unidimensional\n",
        "print(mi_array_unidimensional[0])\n",
        "\n",
        "# Accediendo a una fila completa de un array bidimensional\n",
        "print(mi_array_bidimensional[1])\n"
      ],
      "metadata": {
        "id": "dxrIGUkVK7wc",
        "colab": {
          "base_uri": "https://localhost:8080/"
        },
        "outputId": "ec4d63d1-84c2-462c-c2c1-b4eed1927922"
      },
      "execution_count": null,
      "outputs": [
        {
          "output_type": "stream",
          "name": "stdout",
          "text": [
            "1\n",
            "[4 5 6]\n"
          ]
        }
      ]
    },
    {
      "cell_type": "markdown",
      "source": [
        "###***2.3.4. Cambiar la Forma de un Array:***\n",
        "\n",
        "NumPy permite cambiar fácilmente la forma de un array sin alterar sus datos, lo que es útil para reorganizar matrices o preparar datos para cálculos."
      ],
      "metadata": {
        "id": "sLtya22iLC17"
      }
    },
    {
      "cell_type": "code",
      "source": [
        "# Cambiando la forma de un array unidimensional a una matriz 5x1\n",
        "nuevo_array = mi_array_unidimensional.reshape(5, 1)\n",
        "print(nuevo_array)\n"
      ],
      "metadata": {
        "id": "nMOahEE1LGJC",
        "colab": {
          "base_uri": "https://localhost:8080/"
        },
        "outputId": "1838eaaa-4d03-440f-965e-4736c445067e"
      },
      "execution_count": null,
      "outputs": [
        {
          "output_type": "stream",
          "name": "stdout",
          "text": [
            "[[1]\n",
            " [2]\n",
            " [3]\n",
            " [4]\n",
            " [5]]\n"
          ]
        }
      ]
    },
    {
      "cell_type": "markdown",
      "source": [
        "###***2.3.5. Operaciones Matemáticas:***\n",
        "\n",
        "Realiza operaciones matemáticas sobre arrays completos de manera eficiente, como sumas, restas, multiplicaciones y divisiones."
      ],
      "metadata": {
        "id": "jZjO0fxeLX-D"
      }
    },
    {
      "cell_type": "code",
      "source": [
        "# Creamos dos array\n",
        "array1 = np.array([1, 2, 3])\n",
        "array2 = np.array([4, 5, 6])\n",
        "\n",
        "\n",
        "# Sumando dos arrays unidimensionales\n",
        "suma_arrays = array1 + array2\n",
        "print(f\" Resultado de la suma: {suma_arrays}\")\n",
        "\n",
        "# Restando dos arrays unidimensionales\n",
        "resta_arrays = array2 - array1\n",
        "print(f\" Resultado de la resta: {resta_arrays}\")\n",
        "\n",
        "# Multiplicando dos arrays unidimensionales\n",
        "Multiplicacion_arrays = array2 * array1\n",
        "print(f\" Resultado de la Multiplicacion: {Multiplicacion_arrays}\")\n",
        "\n",
        "# Division dos arrays unidimensionales\n",
        "Division_arrays = array1 / array2\n",
        "print(f\" Resultado de la Division: {Division_arrays}\")"
      ],
      "metadata": {
        "id": "kPV5UQxPLc20",
        "colab": {
          "base_uri": "https://localhost:8080/"
        },
        "outputId": "3046a846-c5ad-48a1-eab7-31fe1108bfba"
      },
      "execution_count": null,
      "outputs": [
        {
          "output_type": "stream",
          "name": "stdout",
          "text": [
            " Resultado de la suma: [5 7 9]\n",
            " Resultado de la resta: [3 3 3]\n",
            " Resultado de la Multiplicacion: [ 4 10 18]\n",
            " Resultado de la Division: [0.25 0.4  0.5 ]\n"
          ]
        }
      ]
    },
    {
      "cell_type": "markdown",
      "source": [
        "###***2.3.6. Operaciones más complejas:***\n",
        "\n",
        "NumPy también soporta operaciones más complejas, como la exponenciación elemento por elemento y operaciones trigonométricas."
      ],
      "metadata": {
        "id": "moibgKSNcO6d"
      }
    },
    {
      "cell_type": "code",
      "source": [
        "# Creamos un array\n",
        "array1 = np.array([1, 2, 3, 4])\n",
        "\n",
        "#Calculando el logaritmo natural elemento por elemento\n",
        "logaritmo_array = np.log(array1)\n",
        "print(f\"Resultado de la logaritmo: {logaritmo_array}\")\n",
        "#Calculando el Exponente elemento por elemento\n",
        "\n",
        "Exponenciacion_arrays = array1 ** 2\n",
        "print(f\"Resultado de la Exponenciación: {Exponenciacion_arrays} \\n\")\n",
        "\n",
        "#Operaciones Trigonométricas elemento por elemento\n",
        "\n",
        "seno = np.sin(array1)\n",
        "cos = np.cos(array1)\n",
        "tan = np.tan(array1)\n",
        "\n",
        "print(f\"Resultados operaciones trigonométricas: \\n Seno: {seno} \\n Coseno: {cos} \\n Tangente: {tan}\" )"
      ],
      "metadata": {
        "colab": {
          "base_uri": "https://localhost:8080/"
        },
        "id": "0JMugFCvcscH",
        "outputId": "d1aa5539-c919-45b7-e66a-788fa645a96f"
      },
      "execution_count": null,
      "outputs": [
        {
          "output_type": "stream",
          "name": "stdout",
          "text": [
            "Resultado de la logaritmo: [0.         0.69314718 1.09861229 1.38629436]\n",
            "Resultado de la Exponenciación: [ 1  4  9 16] \n",
            "\n",
            "Resultados operaciones trigonométricas: \n",
            " Seno: [ 0.84147098  0.90929743  0.14112001 -0.7568025 ] \n",
            " Coseno: [ 0.54030231 -0.41614684 -0.9899925  -0.65364362] \n",
            " Tangente: [ 1.55740772 -2.18503986 -0.14254654  1.15782128]\n"
          ]
        }
      ]
    },
    {
      "cell_type": "markdown",
      "source": [
        "##2.4. Ejercicios\n",
        "\n"
      ],
      "metadata": {
        "id": "YlTi_lhWLmhN"
      }
    },
    {
      "cell_type": "markdown",
      "source": [
        "###**Ejercicio 1:**\n",
        "\n",
        "Crear un Array Unidimensional y Seleccionar Números Pares."
      ],
      "metadata": {
        "id": "SlUWbyt2MA2s"
      }
    },
    {
      "cell_type": "markdown",
      "source": [
        "####**1. Crear un Array Unidimensional**\n",
        "\n",
        "*Para este caso usaremos una funcion para generar un array dado unos parametros.*\n",
        "\n",
        "La función `np.arange()` de NumPy es utilizada para generar arrays que contienen secuencias de números espaciados uniformemente dentro de un rango definido.\n",
        "\n",
        "Desglosemos los componentes de la función `np.arange(start, stop, step)` para entender mejor cómo funciona:\n",
        "\n",
        "* **start**: El valor inicial de la secuencia. Es el primer número incluido en el array. En este caso, start es 1.\n",
        "\n",
        "* **stop**: El límite superior de la secuencia. Este número no está incluido en el array resultante. Aquí, stop es 11, lo que significa que el array generado llegará hasta 10, pero no incluirá el número 11.\n",
        "\n",
        "* **step**: El incremento entre cada número en la secuencia. Si no se especifica, el valor por defecto es 1. Esto indica que la secuencia contendrá números consecutivos."
      ],
      "metadata": {
        "id": "FZPL_obRv29E"
      }
    },
    {
      "cell_type": "markdown",
      "source": [
        "#### **2. Seleccionar Números Pares**\n",
        "\n",
        "Esta línea de código demuestra cómo seleccionar elementos específicos de un array unidimensional en NumPy, en este caso, filtrando para obtener solo los números pares. Aquí se utiliza una técnica de indexación booleana o máscara booleana, la cual es poderosa y muy útil para manipular y filtrar datos dentro de arrays de NumPy. Desglosemos cómo funciona:\n",
        "\n",
        "`numeros_pares = array_unidimensional[array_unidimensional % 2 == 0]`\n",
        "\n",
        "`array_unidimensional % 2 == 0:` Esta expresión genera una máscara booleana.\n",
        "\n",
        "`array_unidimensional % 2` calcula el módulo de cada elemento del array dividido por 2, lo cual es esencialmente el resto de la división de cada elemento por 2. Si el elemento es par, el resto (%) será 0. Comparando este resultado con 0 (== 0), produce un array booleano de la misma longitud que array_unidimensional, donde cada posición contiene True si el elemento correspondiente en array_unidimensional es par, y False si es impar.\n",
        "\n",
        "`array_unidimensional[...]`: Esta sintaxis se refiere a la indexación o segmentación del array. Cuando colocas un array booleano entre los corchetes, NumPy selecciona solo aquellos elementos del array original (array_unidimensional) para los cuales el valor correspondiente en la máscara booleana es True. En otras palabras, esta operación filtra el array_unidimensional, dejando solo los elementos pares.\n",
        "\n",
        "`numeros_pares:` El resultado de esta operación de filtrado se asigna a la variable numeros_pares. Este nuevo array contiene solo los números pares del array_unidimensional."
      ],
      "metadata": {
        "id": "WczCalQqv9Eb"
      }
    },
    {
      "cell_type": "markdown",
      "source": [
        "#### **3. Resultado codigo.**\n",
        "\n",
        "Por lo cual el codigo quedaria de la siguiente manera."
      ],
      "metadata": {
        "id": "IlwqK8Eav87D"
      }
    },
    {
      "cell_type": "code",
      "source": [
        "import numpy as np\n",
        "\n",
        "# Crear un array unidimensional con números del 1 al 10\n",
        "array_unidimensional = np.arange(1, 11)\n",
        "print(\"Array original:\", array_unidimensional)\n",
        "\n",
        "# Seleccionar solo los números pares utilizando la segmentación\n",
        "numeros_pares = array_unidimensional[array_unidimensional % 2 == 0]\n",
        "print(\"Números pares:\", numeros_pares)\n"
      ],
      "metadata": {
        "id": "WfihIToYMEGd",
        "colab": {
          "base_uri": "https://localhost:8080/"
        },
        "outputId": "12fb3933-f30b-49e4-f5db-716f21f8f322"
      },
      "execution_count": null,
      "outputs": [
        {
          "output_type": "stream",
          "name": "stdout",
          "text": [
            "Array original: [ 1  2  3  4  5  6  7  8  9 10]\n",
            "Números pares: [ 2  4  6  8 10]\n"
          ]
        }
      ]
    },
    {
      "cell_type": "markdown",
      "source": [
        "---"
      ],
      "metadata": {
        "id": "vR_MoHasw-0R"
      }
    },
    {
      "cell_type": "markdown",
      "source": [
        "###**Ejercicio 2:**\n",
        "\n",
        "Generar una Matriz 3x3 Llena de Ceros y Cambiarla para Tener Unos en la Diagonal"
      ],
      "metadata": {
        "id": "izqx6ZMeMF9c"
      }
    },
    {
      "cell_type": "markdown",
      "source": [
        "####**1. Generar una Matriz 3x3 Llena de Ceros**\n",
        "\n",
        "`np.zeros((3, 3)):` Esta función de NumPy crea una nueva matriz de la forma especificada, que en este caso es (3, 3), indicando una matriz de 3 filas por 3 columnas. Todos los elementos de esta matriz se inicializan en 0. Esta es una forma conveniente de crear rápidamente una matriz \"vacía\" o de ceros, útil como punto de partida para operaciones más complejas.\n",
        "\n",
        "`matriz_ceros:` La matriz resultante se almacena en la variable matriz_ceros. Imprimir esta variable muestra la matriz de ceros en la consola."
      ],
      "metadata": {
        "id": "ysv1_U3LwoC3"
      }
    },
    {
      "cell_type": "markdown",
      "source": [
        "#### **2. Modificación de la Matriz para Tener Unos en la Diagonal**\n",
        "\n",
        "`np.fill_diagonal():` Esta función de NumPy se utiliza para llenar la diagonal de una matriz con un valor específico, que en este caso es 1. El primer argumento es la matriz a modificar, y el segundo argumento es el valor con el que se llenará la diagonal. En este ejemplo, se toma la matriz matriz_ceros que inicialmente estaba llena de ceros y se actualiza su diagonal para contener unos.\n",
        "\n",
        "Efecto de `np.fill_diagonal`: Es importante notar que np.fill_diagonal modifica la matriz original en el lugar, lo que significa que no se crea una nueva matriz; en cambio, la matriz matriz_ceros original es actualizada directamente.\n",
        "\n",
        "Después de ejecutar `np.fill_diagonal(matriz_ceros, 1)`, la variable matriz_ceros ahora contiene una matriz 3x3 donde los elementos de la diagonal principal son 1, y todos los demás elementos siguen siendo 0. Al imprimir matriz_ceros después de esta operación, se muestra la matriz actualizada:"
      ],
      "metadata": {
        "id": "FWY5hU6xwoYi"
      }
    },
    {
      "cell_type": "markdown",
      "source": [
        "#### **3. Resultado codigo.**\n",
        "\n",
        "Por lo cual el codigo quedaria de la siguiente manera."
      ],
      "metadata": {
        "id": "ajaxtRejxh6r"
      }
    },
    {
      "cell_type": "code",
      "source": [
        "# Generar una matriz 3x3 llena de ceros\n",
        "matriz_ceros = np.zeros((3, 3))\n",
        "print(\"Matriz original de ceros:\\n\", matriz_ceros)\n",
        "\n",
        "# Cambiar la matriz para tener unos en la diagonal\n",
        "np.fill_diagonal(matriz_ceros, 1)\n",
        "print(\"Matriz con unos en la diagonal:\\n\", matriz_ceros)\n"
      ],
      "metadata": {
        "id": "31TGWtQ_PkFP"
      },
      "execution_count": null,
      "outputs": []
    },
    {
      "cell_type": "markdown",
      "source": [
        "---"
      ],
      "metadata": {
        "id": "e9JuSUwNxgrT"
      }
    },
    {
      "cell_type": "markdown",
      "source": [
        "###**Ejercicio 3:**\n",
        "\n",
        "Sumar Dos Matrices de Dimensiones Iguales"
      ],
      "metadata": {
        "id": "5BZ-HuB4PpFw"
      }
    },
    {
      "cell_type": "markdown",
      "source": [
        "####**1. Generar dos matrices de igual dimensiones**\n",
        "\n",
        "Primero, definimos dos matrices matriz_a y matriz_b, ambas de dimensiones 2x2. Esto se logra utilizando `np.array`, donde cada lista interna representa una fila de la matriz:"
      ],
      "metadata": {
        "id": "ynh-A5EJxsw0"
      }
    },
    {
      "cell_type": "markdown",
      "source": [
        "####**2. Sumar las dos matrices**\n",
        "\n",
        "Para sumar estas dos matrices, simplemente utilizamos el operador +. NumPy sobrecarga este operador para realizar la suma elemento por elemento entre las dos matrices:\n",
        "\n",
        "Esta operación toma cada elemento de matriz_a y le suma el valor correspondiente de matriz_b. El resultado es una nueva matriz donde cada posición **(i, j)** es la suma de los elementos **(i, j)** de matriz_a y matriz_b."
      ],
      "metadata": {
        "id": "BUuuhHlNzYQQ"
      }
    },
    {
      "cell_type": "markdown",
      "source": [
        "#### **3. Resultado codigo.**\n",
        "\n",
        "Por lo cual el codigo quedaria de la siguiente manera."
      ],
      "metadata": {
        "id": "B3cqRiXazvJb"
      }
    },
    {
      "cell_type": "code",
      "source": [
        "# Generar dos matrices de dimensiones 2x2\n",
        "matriz_a = np.array([[1, 2], [3, 4]])\n",
        "matriz_b = np.array([[5, 6], [7, 8]])\n",
        "print(\"Matriz A:\\n\", matriz_a)\n",
        "print(\"Matriz B:\\n\", matriz_b)\n",
        "\n",
        "# Sumar las dos matrices\n",
        "suma_matrices = matriz_a + matriz_b\n",
        "print(\"Suma de Matriz A y Matriz B:\\n\", suma_matrices)\n"
      ],
      "metadata": {
        "id": "5Ib93OPrPtXI"
      },
      "execution_count": null,
      "outputs": []
    },
    {
      "cell_type": "markdown",
      "source": [
        "###**Conclusión**\n",
        "\n",
        "Como vimos anteriormente al generar una matriz y modificarla para incluir unos en su diagonal, NumPy facilita no solo la creación y manipulación de arrays y matrices, sino también la realización de cálculos complejos. La suma de matrices es solo un ejemplo de cómo operaciones que serían tediosas de implementar manualmente se simplifican enormemente gracias a las capacidades de NumPy, permitiéndonos centrarnos más en el análisis de datos y menos en los detalles de bajo nivel de la programación de matrices.\n",
        "\n",
        "---"
      ],
      "metadata": {
        "id": "_rUCQA28z89a"
      }
    },
    {
      "cell_type": "markdown",
      "source": [
        "# **3. Introducción al Análisis de Datos Avanzado con Pandas**"
      ],
      "metadata": {
        "id": "RuvDdZ3M0wpb"
      }
    },
    {
      "cell_type": "markdown",
      "source": [
        "## **3.1. ¿Qué es Pandas?**\n",
        "\n",
        "Pandas es una biblioteca de software escrita para el lenguaje de programación Python, enfocada en la manipulación y análisis de datos. Ofrece estructuras de datos y operaciones para manipular tablas numéricas y series temporales, convirtiéndose en una herramienta esencial en el campo de la ciencia de datos.\n",
        "\n",
        "La importancia de Pandas en la ciencia de datos radica en su capacidad para permitir la limpieza, transformación, y análisis rápido de grandes conjuntos de datos con facilidad y eficiencia. Pandas complementa a NumPy, la biblioteca en la que se basa, al ofrecer una capa de abstracción más alta que simplifica la manipulación de datos a través de sus poderosas estructuras de datos: las Series y los DataFrames."
      ],
      "metadata": {
        "id": "BRGqYZFP00Or"
      }
    },
    {
      "cell_type": "markdown",
      "source": [
        "## **3.2. Series y DataFrames**\n",
        "\n",
        "***Series:***\n",
        "\n",
        "Una Serie en Pandas es un array unidimensional etiquetado capaz de almacenar *cualquier* tipo de datos (enteros, cadenas, números flotantes, objetos de Python, etc.). Cada elemento de una Serie está asociado a un índice, el cual es una etiqueta que identifica cada elemento de manera única.\n"
      ],
      "metadata": {
        "id": "4ZlzEzhu17dd"
      }
    },
    {
      "cell_type": "code",
      "source": [
        "\n",
        "import pandas as pd\n",
        "\n",
        "datos = pd.Series([1, 3, 5, 7, 9])\n",
        "print(datos)\n"
      ],
      "metadata": {
        "colab": {
          "base_uri": "https://localhost:8080/"
        },
        "id": "xbgdTZvS2hYN",
        "outputId": "20e632e1-7799-4c70-9315-1c33fbbc10ac"
      },
      "execution_count": null,
      "outputs": [
        {
          "output_type": "stream",
          "name": "stdout",
          "text": [
            "0    1\n",
            "1    3\n",
            "2    5\n",
            "3    7\n",
            "4    9\n",
            "dtype: int64\n"
          ]
        }
      ]
    },
    {
      "cell_type": "markdown",
      "source": [
        "***DataFrames:***\n",
        "\n",
        "\n",
        "Por otro lado, un DataFrame es una estructura de datos bidimensional, esencialmente una tabla, que es similar a una hoja de cálculo o una tabla SQL. Los DataFrames son capaces de almacenar diferentes tipos de datos en cada columna y son etiquetados con índices tanto para las filas como para las columnas.\n",
        "\n",
        "\n",
        "\n"
      ],
      "metadata": {
        "id": "pDu5YMMv2V8U"
      }
    },
    {
      "cell_type": "code",
      "source": [
        "data = {\n",
        "    \"Nombre\": [\"Ana\", \"Luis\", \"Carmen\"],\n",
        "    \"Edad\": [28, 34, 29],\n",
        "    \"Ciudad\": [\"Madrid\", \"Barcelona\", \"Valencia\"]\n",
        "}\n",
        "\n",
        "df = pd.DataFrame(data)\n",
        "print(df)"
      ],
      "metadata": {
        "colab": {
          "base_uri": "https://localhost:8080/"
        },
        "id": "7B3uFmBk2WlU",
        "outputId": "6d3ec984-6fc7-4add-99a0-c5a6f53b8785"
      },
      "execution_count": null,
      "outputs": [
        {
          "output_type": "stream",
          "name": "stdout",
          "text": [
            "   Nombre  Edad     Ciudad\n",
            "0     Ana    28     Madrid\n",
            "1    Luis    34  Barcelona\n",
            "2  Carmen    29   Valencia\n"
          ]
        }
      ]
    },
    {
      "cell_type": "markdown",
      "source": [
        "---\n",
        "**Comparación con Arrays de NumPy:**\n",
        "\n",
        "Mientras que NumPy trabaja principalmente con arrays numéricos de dimensiones homogéneas, Pandas expande esta funcionalidad para permitir la manipulación de datos tabulares heterogéneos de manera más intuitiva. Las Series y los DataFrames de Pandas soportan datos de diferentes tipos y ofrecen una amplia gama de herramientas para trabajar con datos faltantes, agrupar, fusionar, y remodelar datasets, entre otras operaciones avanzadas de análisis de datos que no están directamente disponibles o son más complejas de implementar en NumPy."
      ],
      "metadata": {
        "id": "QMILCfR323mQ"
      }
    },
    {
      "cell_type": "markdown",
      "source": [
        "## **3.3. Manipulación de Datos con Pandas**\n",
        "\n",
        "Pandas simplifica la manipulación de datos a través de sus potentes estructuras de datos y una amplia gama de funcionalidades. Vamos a explorar cómo puedes cargar datos, explorarlos y limpiarlos, y realizar operaciones comunes con DataFrames."
      ],
      "metadata": {
        "id": "sPoB8E374kQa"
      }
    },
    {
      "cell_type": "markdown",
      "source": [
        "### **3.3.1. Carga de Datos**\n",
        "\n",
        "Pandas soporta la carga de datos desde una variedad de fuentes y formatos, facilitando el inicio de tu análisis de datos.\n",
        "\n",
        "\n",
        "\n",
        "1. CSV: Para leer datos desde un archivo CSV, utilizas pd.read_csv().\n",
        "\n",
        "`df_csv = pd.read_csv('ruta/a/tu/archivo.csv')`\n",
        "2. Excel: Pandas puede leer hojas de cálculo de Excel usando pd.read_excel().\n",
        "\n",
        "`df_excel = pd.read_excel('ruta/a/tu/archivo.xlsx', sheet_name='Hoja1')`\n",
        "3. Bases de Datos SQL: Conectar con una base de datos SQL y cargar datos directamente en un DataFrame es posible usando pd.read_sql_query().\n",
        "\n",
        "```\n",
        "from sqlalchemy import create_engine\n",
        "engine = create_engine('sqlite:///ruta/a/tu/base_de_datos.db')\n",
        "df_sql = pd.read_sql_query('SELECT * FROM tu_tabla', engine)\n",
        "```\n",
        "\n",
        "Estos métodos te permiten comenzar rápidamente tu análisis, llevando los datos desde su fuente original a un ambiente de Python de manera eficiente."
      ],
      "metadata": {
        "id": "C6Tp_Zhw5LDW"
      }
    },
    {
      "cell_type": "markdown",
      "source": [
        "### **3.3.2. Exploración y Limpieza de Datos**\n",
        "\n",
        "Una vez que tus datos están cargados en Pandas, el siguiente paso es explorarlos y prepararlos para el análisis.\n",
        "\n",
        "**Inspección de Datos:**\n",
        "\n",
        "Utiliza df.head(), df.tail(), y df.info() para obtener una visión general rápida de tus datos.\n",
        "\n",
        "---\n",
        "**Filtrado de Datos:**\n",
        "\n",
        "Filtra los datos basados en condiciones específicas con sintaxis similar a la indexación booleana en NumPy.\n",
        "\n",
        "El fragmento de código `df_filtrado = df[df['Edad'] > 30]` es un ejemplo de cómo filtrar filas en un DataFrame de Pandas basándose en una condición. En este caso, se seleccionan las filas donde los valores en la columna 'Edad' son mayores a 30.\n",
        "\n",
        "---\n",
        "**Limpieza de Datos:**\n",
        "\n",
        "Maneja valores faltantes utilizando métodos como df.dropna() para eliminar o df.fillna() para reemplazar estos valores.\n",
        "\n",
        "---\n",
        "**Transformación de Datos:**\n",
        "\n",
        "Crea o modifica columnas basadas en datos existentes para extraer nueva información relevante.\n"
      ],
      "metadata": {
        "id": "iwGUO0ly55ID"
      }
    },
    {
      "cell_type": "markdown",
      "source": [
        "### **3.3.3. Operaciones con DataFrames**\n",
        "\n",
        "Pandas ofrece una amplia gama de operaciones para trabajar con DataFrames, permitiéndote manipular tus datos de maneras complejas y útiles."
      ],
      "metadata": {
        "id": "DGmZK0kY7QID"
      }
    },
    {
      "cell_type": "markdown",
      "source": [
        "####**3.3.3.1. Agrupaciones:**\n",
        "\n",
        "Utiliza df.groupby() para agrupar datos basados en una o más columnas y realizar operaciones agregadas.\n",
        "\n",
        "El código `df.groupby('Ciudad').mean()` es un ejemplo de cómo utilizar las funciones de agrupación en Pandas para calcular la media de los valores numéricos dentro de cada grupo. Aquí se desglosa la operación:\n",
        "\n",
        "* df.groupby('Ciudad'): Esta función agrupa el DataFrame df por los valores únicos encontrados en la columna 'Ciudad'. Cada grupo generado corresponde a una ciudad específica, conteniendo todas las filas del DataFrame original que tienen el mismo valor en la columna 'Ciudad'.\n",
        "\n",
        "* .mean(): Este método calcula la media (promedio) de todas las columnas numéricas para cada grupo. Si el DataFrame contiene otras columnas numéricas aparte de 'Edad', como 'Ingresos' o 'Años de experiencia', el método .mean() calculará y retornará la media de cada una de estas columnas, pero separada por ciudad.\n",
        "\n",
        "\n",
        "El resultado es un nuevo DataFrame donde cada fila representa una ciudad diferente encontrada en la columna 'Ciudad' del DataFrame original, y cada columna numérica contiene la media de sus valores correspondientes a esa ciudad.\n",
        "\n",
        "Este tipo de operación es útil para resumir datos y obtener insights rápidos sobre cómo varían las métricas numéricas entre categorías o grupos en un conjunto de datos.\n",
        "\n",
        "---\n",
        "\n"
      ],
      "metadata": {
        "id": "uwHrPUuV7Xfs"
      }
    },
    {
      "cell_type": "markdown",
      "source": [
        "####**3.3.3.2. Fusiones:**\n",
        "\n",
        "El código `df_merged = pd.merge(df1, df2, on='clave_comun')` ilustra cómo combinar dos DataFrames **df1** y **df2** en Pandas utilizando una clave común. Veamos el proceso paso a paso:\n",
        "\n",
        "1. `pd.merge(df1, df2, on='clave_comun')`:\n",
        "Esta función de Pandas combina df1 y df2 basándose en los valores de la columna que se especifica en el argumento on, que en este caso es **'clave_comun'**. La operación de fusión (o merge) busca coincidencias en la columna **'clave_comun'** de ambos DataFrames y une las filas correspondientes en un nuevo DataFrame.\n",
        "\n",
        "2. **Argumento on=`'clave_comun'`**:\n",
        " Indica el nombre de la columna que se utilizará como clave para realizar la unión. Para que la fusión sea exitosa, esta columna debe existir en ambos DataFrames y contener datos que Pandas pueda comparar para encontrar coincidencias. Solo las filas con valores coincidentes en esta columna de ambos DataFrames se incluirán en el DataFrame resultante.\n",
        "\n",
        "3. **df_merged:**\n",
        "El DataFrame resultante de la operación de fusión se asigna a la variable **df_merged**. Este nuevo DataFrame contiene todas las columnas de **df1** y **df2**, pero las filas se combinan según las coincidencias encontradas en la columna **'clave_comun'**.\n",
        "\n",
        "Esta técnica es especialmente útil para combinar datos relacionados pero separados en diferentes tablas o archivos, permitiendo un análisis más completo. Por ejemplo, si df1 contiene información de empleados (ID de empleado, nombre, departamento) y df2 contiene información sobre salarios (ID de empleado, salario), al fusionar estos DataFrames usando el ID de empleado como clave común, puedes crear un nuevo DataFrame que contenga tanto la información personal como el salario de cada empleado.\n",
        "\n",
        "---"
      ],
      "metadata": {
        "id": "qu4POwelWIY0"
      }
    },
    {
      "cell_type": "markdown",
      "source": [
        "####**3.3.3.3.Transformaciones:**\n",
        "\n",
        "Aplica funciones a tus datos con métodos como df.apply() o df.map() para realizar transformaciones personalizadas a nivel de columna o fila.*texto en cursiva*"
      ],
      "metadata": {
        "id": "6eytlBd0Whm7"
      }
    },
    {
      "cell_type": "markdown",
      "source": [
        "\n",
        "\n",
        "\n",
        "\n",
        "##### 1. **Método df.apply()**\n",
        "\n",
        "El método **apply** se puede utilizar tanto en DataFrames como en Series de Pandas para aplicar una función a lo largo de un eje del DataFrame o sobre los valores de la Serie.\n",
        "\n",
        "---\n",
        "* **En DataFrames**, `df.apply()` permite aplicar una función a lo largo de las filas o columnas. Puedes especificar el eje sobre el cual quieres que opere la función utilizando el argumento axis (axis=0 para columnas y axis=1 para filas).\n",
        "\n",
        "**Ejemplo:**\n",
        "\n",
        "Supongamos que deseas calcular el rango (diferencia entre el valor máximo y mínimo) de cada columna numérica en un DataFrame:"
      ],
      "metadata": {
        "id": "vpYzDVGnWPaK"
      }
    },
    {
      "cell_type": "code",
      "source": [
        "import pandas as pd\n",
        "import numpy as np\n",
        "\n",
        "df = pd.DataFrame({\n",
        "    'A': np.random.randint(1, 10, 5),\n",
        "    'B': np.random.randint(1, 10, 5),\n",
        "    'C': np.random.randint(1, 10, 5)\n",
        "})\n",
        "\n",
        "rango = df.apply(lambda x: x.max() - x.min())\n",
        "print(rango)"
      ],
      "metadata": {
        "colab": {
          "base_uri": "https://localhost:8080/"
        },
        "id": "Kiu-CSynU1h0",
        "outputId": "bdef7173-deaf-491a-f8d9-a020f5f5f50c"
      },
      "execution_count": null,
      "outputs": [
        {
          "output_type": "stream",
          "name": "stdout",
          "text": [
            "A    8\n",
            "B    6\n",
            "C    7\n",
            "dtype: int64\n"
          ]
        }
      ]
    },
    {
      "cell_type": "markdown",
      "source": [
        "---\n",
        "* **En Series**, `apply()` permite aplicar una función a cada elemento de la Serie.\n",
        "\n",
        "**Ejemplo:**\n",
        "\n",
        "Si quieres incrementar en uno todos los valores de una columna (o Serie):"
      ],
      "metadata": {
        "id": "S-CiGW2YVL0Q"
      }
    },
    {
      "cell_type": "code",
      "source": [
        "df['A'] = df['A'].apply(lambda x: x + 1)\n",
        "print(df)\n"
      ],
      "metadata": {
        "colab": {
          "base_uri": "https://localhost:8080/"
        },
        "id": "IB392TAlVVp9",
        "outputId": "6c156025-3906-499d-f799-dabcaca02635"
      },
      "execution_count": null,
      "outputs": [
        {
          "output_type": "stream",
          "name": "stdout",
          "text": [
            "    A  B  C\n",
            "0   2  1  8\n",
            "1   7  3  2\n",
            "2   2  1  4\n",
            "3   2  7  1\n",
            "4  10  1  4\n"
          ]
        }
      ]
    },
    {
      "cell_type": "markdown",
      "source": [
        "---\n",
        "\n",
        "##### Método df.map()\n",
        "\n",
        "El método map es específico de las Series en Pandas y se utiliza para mapear los valores de una Serie a otros valores, utilizando un diccionario, una Serie o una función como mapeo.\n",
        "\n",
        "**Ejemplo:**\n",
        "\n",
        "Supongamos que tienes una columna en tu DataFrame que contiene códigos de categoría como 'A', 'B', y 'C', y deseas reemplazarlos con nombres más descriptivos:"
      ],
      "metadata": {
        "id": "zbvndxTYW12M"
      }
    },
    {
      "cell_type": "code",
      "source": [
        "import pandas as pd\n",
        "import numpy as np\n",
        "\n",
        "# Crear un DataFrame de ejemplo\n",
        "df = pd.DataFrame({\n",
        "    'A': np.random.randint(1, 10, 5),\n",
        "    'B': np.random.randint(1, 10, 5),\n",
        "    'C': np.random.randint(1, 10, 5),\n",
        "    'Categoría': ['A', 'B', 'A', 'C', 'B']\n",
        "})\n",
        "\n",
        "print(\"DataFrame original:\")\n",
        "print(df)\n",
        "\n",
        "# Calcular el rango de cada columna numérica\n",
        "rango = df[['A', 'B', 'C']].apply(lambda x: x.max() - x.min())\n",
        "print(\"\\nRango de cada columna numérica:\")\n",
        "print(rango)\n",
        "\n",
        "# Incrementar en uno todos los valores de la columna 'A'\n",
        "df['A'] = df['A'].apply(lambda x: x + 1)\n",
        "print(\"\\nDataFrame después de incrementar los valores de la columna 'A':\")\n",
        "print(df)\n",
        "\n",
        "# Reemplazar valores en la columna 'Categoría' usando map\n",
        "df['Categoría'] = df['Categoría'].map({'A': 'Alto', 'B': 'Medio', 'C': 'Bajo'})\n",
        "print(\"\\nDataFrame después de reemplazar valores en la columna 'Categoría':\")\n",
        "print(df)\n"
      ],
      "metadata": {
        "id": "br2_8GjNXGQr"
      },
      "execution_count": null,
      "outputs": []
    },
    {
      "cell_type": "markdown",
      "source": [
        "**Este script realiza lo siguiente:**\n",
        "\n",
        "1. Crea un DataFrame df con tres columnas numéricas **('A', 'B', 'C')** y una columna de categorías **('Categoría')**, llenando los datos con valores aleatorios para las numéricas y valores predefinidos para 'Categoría'.\n",
        "\n",
        "2. Calcula y muestra el rango **(la diferencia entre el máximo y el mínimo)** de cada columna numérica.\n",
        "\n",
        "3. Incrementa en uno todos los valores de la columna 'A' y muestra el DataFrame modificado.\n",
        "\n",
        "4. Reemplaza los valores de la columna 'Categoría' con etiquetas más descriptivas **('Alto', 'Medio', 'Bajo')** utilizando un diccionario como mapeo y muestra el DataFrame final modificado.\n",
        "\n",
        "\n",
        "Este ejemplo ilustra cómo manipular y transformar datos en Pandas, utilizando métodos poderosos como **apply()** y **map()** para realizar operaciones complejas de manera concisa y eficiente."
      ],
      "metadata": {
        "id": "mfBUW1ZeXp1L"
      }
    },
    {
      "cell_type": "markdown",
      "source": [
        "#### **Conclusión**\n",
        "\n",
        "Tanto **apply** como **map** son herramientas potentes en Pandas que te permiten realizar transformaciones complejas y personalizadas de tus datos de manera eficiente. Mientras que **apply** ofrece flexibilidad para trabajar a nivel de columnas o filas en DataFrames y sobre elementos individuales en Series, **map** se especializa en transformar los valores de una Serie utilizando un mapeo específico. Estos métodos son indispensables para la limpieza de datos, la preparación de datos para análisis, y para la creación de nuevas características que puedan mejorar modelos de machine learning o profundizar en el análisis exploratorio de datos.\n",
        "\n",
        "---"
      ],
      "metadata": {
        "id": "6vRIEeAnXcbb"
      }
    },
    {
      "cell_type": "markdown",
      "source": [
        "# **4. Análisis de Datos y Visualización**\n",
        "\n",
        "El análisis y la comprensión profunda de los datos son cruciales en la ciencia de datos. Este capítulo se centra en el Análisis Exploratorio de Datos **(EDA)**, una fase esencial para comprender la naturaleza y las características de los datos con los que trabajamos, y en cómo visualizar estos datos de manera efectiva para obtener insights valiosos."
      ],
      "metadata": {
        "id": "-YlbsJvekj1J"
      }
    },
    {
      "cell_type": "markdown",
      "source": [
        "## 4.1. Análisis Exploratorio de Datos (EDA)\n",
        "\n",
        "El EDA es el proceso de utilizar técnicas analíticas y visuales para examinar datos con el fin de descubrir patrones, identificar anomalías, probar hipótesis y verificar suposiciones. La meta es familiarizarse con la forma y la estructura de los datos antes de realizar cualquier análisis más profundo."
      ],
      "metadata": {
        "id": "7Frnb90LlVow"
      }
    },
    {
      "cell_type": "markdown",
      "source": [
        "## **4.2. Estadísticas Descriptivas:**\n",
        "\n",
        "Comienza con la obtención de estadísticas descriptivas para tus datos. Pandas ofrece métodos como `.describe(), .mean(), .median(), y .mode()` que te permiten explorar rápidamente las características centrales de tus datasets.\n",
        "\n",
        "* **.describe():** ofrece un resumen estadístico que incluye aquellas características importantes de cada columna numérica en el DataFrame, tales como conteo, media, desviación estándar, mínimo, máximo, y los cuartiles (25%, 50%, y 75%). Por defecto, solo describe las columnas numéricas, pero puedes incluir objetos, como cadenas de texto y timestamps, pasando el argumento include='all'.\n",
        "\n",
        "* **.mean():** calcula la media aritmética de los valores en una columna o a través del DataFrame, dependiendo de si se aplica a una Serie (columna individual) o a un DataFrame completo. La media proporciona el valor promedio de los datos, dando una idea de la tendencia central de la distribución.\n",
        "\n",
        "* **.median():** Este método calcula el valor medio de cada columna numérica en el DataFrame o Serie. La mediana es el valor que se encuentra en el medio de un conjunto de números ordenados, lo cual es útil especialmente en distribuciones sesgadas ya que es menos sensible a valores atípicos (outliers) en comparación con la media.\n",
        "\n",
        "* **.mode():** encuentra el valor más frecuente en cada columna numérica o no numérica en el DataFrame o Serie. En el caso de los datos numéricos, esto representa el número que aparece con mayor frecuencia. En datos categóricos o de texto, sería el valor o categoría más común. Puede haber más de un valor modal.\n",
        "\n",
        "Cada uno de estos métodos ofrece una perspectiva diferente sobre la disposición y naturaleza de los datos, ayudando a los analistas y científicos de datos a comprender mejor sus conjuntos de datos antes de proceder con análisis más complejos.\n",
        "\n",
        "\n",
        "**Distribución de los Datos:**\n",
        "\n",
        "La visualización de la distribución de tus datos puede realizarse mediante histogramas o boxplots. Estas visualizaciones te ayudan a comprender la dispersión, la tendencia central y la presencia de valores atípicos."
      ],
      "metadata": {
        "id": "7v_kKCadlgba"
      }
    },
    {
      "cell_type": "markdown",
      "source": [
        "## **4.3. Visualización de Datos**\n",
        "\n",
        "La visualización de datos es una herramienta poderosa para el análisis y la presentación de resultados. Matplotlib y Seaborn son dos de las bibliotecas más populares para la visualización de datos en Python."
      ],
      "metadata": {
        "id": "c8Wh5sn_qRA_"
      }
    },
    {
      "cell_type": "markdown",
      "source": [
        "### **4.3.1. Matplotlib**\n",
        "\n",
        "Es una biblioteca de visualización de datos de bajo nivel en Python que ofrece una gran flexibilidad para crear gráficos estáticos, animados e interactivos.\n",
        "\n",
        "Para visualizar la distribución de una columna específica, podrías usar:\n",
        "\n",
        "Este script primero importa las bibliotecas necesarias, crea un DataFrame de Pandas con una columna 'columna' llena de 100 valores generados aleatoriamente siguiendo una distribución normal, y luego utiliza Matplotlib para crear y mostrar un histograma de esos valores. El parámetro bins en el método hist() te permite ajustar cuántas barras quieres en tu histograma, lo cual puede ayudarte a visualizar mejor la distribución de tus datos."
      ],
      "metadata": {
        "id": "iSYmFVinrDP2"
      }
    },
    {
      "cell_type": "markdown",
      "source": [
        "En caso de no tener instalada esta libreria puedes usar\n",
        "\n",
        "`pip install pandas matplotlib`\n"
      ],
      "metadata": {
        "id": "ZR9m5QpItNxP"
      }
    },
    {
      "cell_type": "code",
      "source": [
        "import pandas as pd\n",
        "import matplotlib.pyplot as plt\n",
        "import numpy as np\n",
        "\n",
        "# Crear un DataFrame de ejemplo\n",
        "data = {'columna': np.random.normal(size=100)}  # Genera 100 datos aleatorios con distribución normal\n",
        "df = pd.DataFrame(data)\n",
        "\n",
        "# Crear un histograma de la columna 'columna'\n",
        "plt.figure(figsize=(10, 6))  # Opcional: Define el tamaño del gráfico\n",
        "df['columna'].hist(bins=20)  # 'bins' define cuántas barras (intervalos) quieres en tu histograma\n",
        "plt.title('Histograma de la Columna')  # Título del histograma\n",
        "plt.xlabel('Valores')  # Etiqueta del eje X\n",
        "plt.ylabel('Frecuencia')  # Etiqueta del eje Y\n",
        "plt.grid(True)  # Muestra una cuadrícula para facilitar la lectura\n",
        "plt.show()  # Muestra el gráfico\n"
      ],
      "metadata": {
        "colab": {
          "base_uri": "https://localhost:8080/",
          "height": 564
        },
        "id": "FxruGkFqrJlY",
        "outputId": "6176d612-ab1b-4d2b-a9c7-86b4fd726fdf"
      },
      "execution_count": null,
      "outputs": [
        {
          "output_type": "display_data",
          "data": {
            "text/plain": [
              "<Figure size 1000x600 with 1 Axes>"
            ],
            "image/png": "[encoded data removed]"
          },
          "metadata": {}
        }
      ]
    },
    {
      "cell_type": "markdown",
      "source": [
        "### **4.3.2. Seaborn**\n",
        "\n",
        "Basada en Matplotlib, Seaborn facilita la creación de gráficos más complejos y estéticamente agradables con menos código. Es especialmente útil para visualizar patrones en conjuntos de datos grandes y complejos.\n",
        "\n",
        "Para crear un gráfico de dispersión que muestre la relación entre dos variables, podrías usar:\n",
        "\n",
        "Este script importa las bibliotecas necesarias y crea un DataFrame df con dos columnas: 'variable_x' y 'variable_y', cada una conteniendo 50 valores numéricos aleatorios. Luego, utiliza Seaborn para dibujar un gráfico de dispersión de 'variable_x' contra 'variable_y', mostrando cómo se relacionan estas dos variables entre sí. Finalmente, opcionalmente puedes personalizar el gráfico con un título y etiquetas para los ejes X e Y usando Matplotlib.\n",
        "\n",
        "Los gráficos de dispersión son útiles para examinar la relación entre dos variables numéricas, permitiéndote ver patrones, tendencias, agrupaciones, o cualquier relación particular que puedan tener."
      ],
      "metadata": {
        "id": "sGtxcFXhrOfn"
      }
    },
    {
      "cell_type": "markdown",
      "source": [
        "En caso de no tener instalada esta libreria puedes usar\n",
        "\n",
        "`pip install pandas seaborn matplotlib`"
      ],
      "metadata": {
        "id": "Ab7p7I3AtCLe"
      }
    },
    {
      "cell_type": "code",
      "source": [
        "import pandas as pd\n",
        "import seaborn as sns\n",
        "import matplotlib.pyplot as plt\n",
        "import numpy as np\n",
        "\n",
        "# Crear un DataFrame de ejemplo con datos aleatorios\n",
        "np.random.seed(10)  # Fija la semilla para reproducibilidad\n",
        "data = {\n",
        "    'variable_x': np.random.rand(50),  # 50 números aleatorios uniformemente distribuidos entre 0 y 1\n",
        "    'variable_y': np.random.rand(50)   # Otro conjunto de 50 números aleatorios para el eje Y\n",
        "}\n",
        "df = pd.DataFrame(data)\n",
        "\n",
        "# Crear un gráfico de dispersión con Seaborn\n",
        "sns.scatterplot(data=df, x='variable_x', y='variable_y')\n",
        "\n",
        "# Opcional: Personalizar el gráfico\n",
        "plt.title('Gráfico de Dispersión de variable_x vs variable_y')\n",
        "plt.xlabel('Variable X')\n",
        "plt.ylabel('Variable Y')\n",
        "\n",
        "plt.show()  # Muestra el gráfico\n",
        "\n"
      ],
      "metadata": {
        "colab": {
          "base_uri": "https://localhost:8080/",
          "height": 472
        },
        "id": "Tdjd40AyrR8-",
        "outputId": "2882649d-7d61-4e7d-a2b3-a1a65904b3b2"
      },
      "execution_count": null,
      "outputs": [
        {
          "output_type": "display_data",
          "data": {
            "text/plain": [
              "<Figure size 640x480 with 1 Axes>"
            ],
            "image/png": "[encoded data removed]"
          },
          "metadata": {}
        }
      ]
    },
    {
      "cell_type": "markdown",
      "source": [
        "### **4.3.3. Visualización de Datos con Pandas**\n",
        "\n",
        " Pandas integra tanto Matplotlib como Seaborn, lo que permite crear visualizaciones directamente desde DataFrames. Esto simplifica el proceso de explorar y entender tus datos.\n",
        "\n",
        " ---"
      ],
      "metadata": {
        "id": "xnt-WEiFrWe2"
      }
    },
    {
      "cell_type": "markdown",
      "source": [
        "##**4.4. Ejercicios practicos:**"
      ],
      "metadata": {
        "id": "APOv-zFR8BGl"
      }
    },
    {
      "cell_type": "markdown",
      "source": [
        "### **Ejercicio 1:**\n",
        "\n",
        "1. Utiliza `.describe()` para obtener un resumen estadístico de tu DataFrame\n"
      ],
      "metadata": {
        "id": "oFmLJd-R5anf"
      }
    },
    {
      "cell_type": "markdown",
      "source": [
        "#### **1. Creación del DataFrame df:**\n",
        "\n",
        " Utilizamos `pd.DataFrame()` para crear un DataFrame con tres columnas: **'Edad', 'Salario', y 'Años_de_experiencia'.** Para los datos de **'Edad' y 'Salario'**, usamos `np.random.randint()` para generar enteros aleatorios dentro de un rango especificado. Para 'Años_de_experiencia', usamos `np.random.rand(100) * 10` para obtener 100 números aleatorios flotantes entre 0 y 10.\n",
        "\n"
      ],
      "metadata": {
        "id": "1RYZx2iO6t_v"
      }
    },
    {
      "cell_type": "markdown",
      "source": [
        "#### **2. Obtención del resumen estadístico con .describe():**\n",
        "Aplicamos el método **.describe()** al DataFrame df para obtener un resumen estadístico que incluye el conteo, media, desviación estándar, mínimo, los cuartiles (25%, 50%, 75%) y el máximo para cada columna numérica.\n",
        "\n"
      ],
      "metadata": {
        "id": "vOCiQ6kj7Dr2"
      }
    },
    {
      "cell_type": "markdown",
      "source": [
        "#### **3. Impresión del resumen estadístico:**\n",
        "Finalmente, imprimimos el resumen estadístico almacenado en `resumen_estadistico`. Este paso proporciona una visión general rápida de las características estadísticas principales de las variables numéricas en nuestro DataFrame, incluyendo tendencias centrales y dispersión.\n",
        "\n"
      ],
      "metadata": {
        "id": "vZc_w6sl7IhS"
      }
    },
    {
      "cell_type": "markdown",
      "source": [
        "#### **4. Resultado codigo.**"
      ],
      "metadata": {
        "id": "rlxBTry_7WTG"
      }
    },
    {
      "cell_type": "code",
      "source": [
        "import pandas as pd\n",
        "import numpy as np\n",
        "\n",
        "# Crear un DataFrame de ejemplo con datos aleatorios\n",
        "np.random.seed(0)  # Para resultados reproducibles\n",
        "df = pd.DataFrame({\n",
        "    'Edad': np.random.randint(18, 65, size=100),  # Edades entre 18 y 65 años\n",
        "    'Salario': np.random.randint(5000, 50000, size=100),  # Salarios entre 5000 y 50000\n",
        "    'Años_de_experiencia': np.random.rand(100) * 10  # Años de experiencia, de 0 a 10\n",
        "})\n",
        "\n",
        "# Utilizar .describe() para obtener un resumen estadístico del DataFrame\n",
        "resumen_estadistico = df.describe()\n",
        "\n",
        "# Imprimir el resumen estadístico\n",
        "print(resumen_estadistico)\n"
      ],
      "metadata": {
        "colab": {
          "base_uri": "https://localhost:8080/"
        },
        "id": "CfCHFgll512j",
        "outputId": "bd466048-ee5e-463b-d767-fba9bb1d588a"
      },
      "execution_count": null,
      "outputs": [
        {
          "output_type": "stream",
          "name": "stdout",
          "text": [
            "             Edad       Salario  Años_de_experiencia\n",
            "count  100.000000    100.000000           100.000000\n",
            "mean    38.800000  27830.820000             5.135739\n",
            "std     13.893535  12768.037828             2.930879\n",
            "min     18.000000   5469.000000             0.000554\n",
            "25%     27.000000  18419.750000             2.304172\n",
            "50%     37.500000  27966.000000             4.886933\n",
            "75%     53.000000  39681.000000             7.543611\n",
            "max     64.000000  49258.000000             9.923964\n"
          ]
        }
      ]
    },
    {
      "cell_type": "markdown",
      "source": [
        "Este ejemplo ilustra cómo generar y utilizar .describe() para obtener un entendimiento inicial y rápido de las propiedades estadísticas de un conjunto de datos en Pandas, lo cual es un paso esencial en cualquier análisis de datos.\n",
        "\n",
        "---"
      ],
      "metadata": {
        "id": "DMmzAQ7D52Wr"
      }
    },
    {
      "cell_type": "markdown",
      "source": [
        "### Ejercicio 2:\n",
        "\n",
        "Crea un histograma de una variable numérica utilizando Matplotlib para explorar su distribución"
      ],
      "metadata": {
        "id": "S3XyM2st82vv"
      }
    },
    {
      "cell_type": "markdown",
      "source": [
        "#### **1. Creación del DataFrame df:**\n",
        "\n",
        "Este ejemplo comienza generando un DataFrame `df` que contiene una columna **'variable_numerica'**, la cual está poblada con 100 valores aleatorios generados para simular una distribución normal con una media de 50 y una desviación estándar de 15."
      ],
      "metadata": {
        "id": "GVZNtHa89BVe"
      }
    },
    {
      "cell_type": "markdown",
      "source": [
        "#### **2. Histograma con Matplotlib:**\n",
        "\n",
        "Usamos `plt.hist()` para crear el histograma de la columna 'variable_numerica'. El parámetro bins=10 especifica que queremos dividir los datos en 10 intervalos `(o \"barras\")` para el histograma, lo cual nos permite ver cómo se distribuyen los datos. `edgecolor='black'` se utiliza para definir el color del borde de cada barra, mejorando la visualización."
      ],
      "metadata": {
        "id": "ngM0wrIa-bUA"
      }
    },
    {
      "cell_type": "markdown",
      "source": [
        "#### **3. Personalización del Gráfico:**\n",
        "\n",
        "Se añaden un título y etiquetas para los ejes X e Y mediante `plt.title()`, `plt.xlabel()`, y `plt.ylabel()`. La opción `plt.grid(True)` añade una cuadrícula al gráfico, lo que puede ayudar a interpretar mejor la distribución."
      ],
      "metadata": {
        "id": "y03ZCyeX-mUn"
      }
    },
    {
      "cell_type": "markdown",
      "source": [
        "#### **4. Resultado codigo.**\n",
        "\n"
      ],
      "metadata": {
        "id": "s-FBHSL2-1X4"
      }
    },
    {
      "cell_type": "code",
      "source": [
        "import pandas as pd\n",
        "import numpy as np\n",
        "import matplotlib.pyplot as plt\n",
        "\n",
        "# Crear un DataFrame de ejemplo con una columna numérica\n",
        "np.random.seed(0)  # Para resultados reproducibles\n",
        "df = pd.DataFrame({\n",
        "    'variable_numerica': np.random.normal(50, 15, size=100)  # 100 datos con distribución normal, media=50, std=15\n",
        "})\n",
        "\n",
        "# Crear un histograma de la columna 'variable_numerica'\n",
        "plt.hist(df['variable_numerica'], bins=10, edgecolor='black')\n",
        "plt.title('Distribución de variable_numerica')  # Título del gráfico\n",
        "plt.xlabel('Variable Numerica')  # Etiqueta para el eje X\n",
        "plt.ylabel('Frecuencia')  # Etiqueta para el eje Y\n",
        "plt.grid(True)  # Opcional: Añade una cuadrícula para facilitar la lectura\n",
        "plt.show()  # Muestra el histograma\n"
      ],
      "metadata": {
        "colab": {
          "base_uri": "https://localhost:8080/",
          "height": 472
        },
        "id": "fFHAW3SB-6P_",
        "outputId": "af9da374-6dbc-4539-93ec-a01a9a3f449a"
      },
      "execution_count": null,
      "outputs": [
        {
          "output_type": "display_data",
          "data": {
            "text/plain": [
              "<Figure size 640x480 with 1 Axes>"
            ],
            "image/png": "[encoded data removed]"
          },
          "metadata": {}
        }
      ]
    },
    {
      "cell_type": "markdown",
      "source": [
        "Este ejercicio te ayudará a familiarizarte con la creación de histogramas en Matplotlib, una técnica básica de visualización de datos que es esencial para el análisis exploratorio de datos (EDA), permitiéndote comenzar a identificar la forma de la distribución de tus variables numéricas.\n",
        "\n",
        "---"
      ],
      "metadata": {
        "id": "bc75VdYA_AqJ"
      }
    },
    {
      "cell_type": "markdown",
      "source": [
        "## **Ejercicio 3:**\n",
        "\n",
        "Genera un gráfico de dispersión con Seaborn para investigar la relación entre dos variables"
      ],
      "metadata": {
        "id": "0MqLlVRo_mDP"
      }
    },
    {
      "cell_type": "markdown",
      "source": [
        "#### **1. Creación del DataFrame df:**\n",
        "\n",
        "Comenzamos generando un DataFrame df con dos columnas: **'variable_x'** y **'variable_y'**. Ambas columnas están llenas con 100 valores aleatorios generados para simular una distribución normal estándar (media=0, desviación estándar=1)."
      ],
      "metadata": {
        "id": "_G7dCDFCAlKB"
      }
    },
    {
      "cell_type": "markdown",
      "source": [
        "### **2. Gráfico de Dispersión con Seaborn:**\n",
        "\n",
        "Utilizamos `sns.scatterplot()` para dibujar el gráfico de dispersión, especificando el DataFrame df como fuente de datos y asignando **'variable_x'** y **'variable_y'** a los ejes X e Y, respectivamente. Este tipo de gráfico es útil para visualizar la relación o correlación potencial entre dos variables numéricas."
      ],
      "metadata": {
        "id": "uFYJxOMOAxdn"
      }
    },
    {
      "cell_type": "markdown",
      "source": [
        "### **3. Personalización del Gráfico:**\n",
        "\n",
        "Agregamos un título al gráfico y etiquetas para los ejes X e Y utilizando funciones de Matplotlib (`plt.title()`, `plt.xlabel()`, `plt.ylabel()`), mejorando la claridad y comprensión del gráfico resultante."
      ],
      "metadata": {
        "id": "gUmNKP-TA97X"
      }
    },
    {
      "cell_type": "markdown",
      "source": [
        "### **4. Resultado codigo.**"
      ],
      "metadata": {
        "id": "RBqpgwHRBgbP"
      }
    },
    {
      "cell_type": "code",
      "source": [
        "import pandas as pd\n",
        "import numpy as np\n",
        "import seaborn as sns\n",
        "import matplotlib.pyplot as plt\n",
        "\n",
        "# Crear un DataFrame de ejemplo con dos columnas numéricas\n",
        "np.random.seed(0)  # Para resultados reproducibles\n",
        "df = pd.DataFrame({\n",
        "    'variable_x': np.random.normal(0, 1, size=100),  # 100 datos para variable_x con distribución normal, media=0, std=1\n",
        "    'variable_y': np.random.normal(0, 1, size=100)   # 100 datos para variable_y con distribución normal, media=0, std=1\n",
        "})\n",
        "\n",
        "# Crear un gráfico de dispersión con Seaborn\n",
        "sns.scatterplot(data=df, x='variable_x', y='variable_y')\n",
        "\n",
        "# Personalizar el gráfico\n",
        "plt.title('Relación entre Variable X y Variable Y')  # Título del gráfico\n",
        "plt.xlabel('Variable X')  # Etiqueta para el eje X\n",
        "plt.ylabel('Variable Y')  # Etiqueta para el eje Y\n",
        "\n",
        "plt.show()  # Muestra el gráfico\n"
      ],
      "metadata": {
        "colab": {
          "base_uri": "https://localhost:8080/",
          "height": 472
        },
        "id": "UQWRWKgbBdty",
        "outputId": "894f2342-5b55-471a-ef9b-6aa3e2430bb6"
      },
      "execution_count": null,
      "outputs": [
        {
          "output_type": "display_data",
          "data": {
            "text/plain": [
              "<Figure size 640x480 with 1 Axes>"
            ],
            "image/png": "[encoded data removed]"
          },
          "metadata": {}
        }
      ]
    },
    {
      "cell_type": "markdown",
      "source": [
        "Este ejercicio te permitirá comenzar a explorar la relación entre pares de variables en tus conjuntos de datos, facilitando el descubrimiento de insights valiosos y patrones que podrían no ser evidentes a primera vista."
      ],
      "metadata": {
        "id": "dpferiXrBeEX"
      }
    }
  ]
}