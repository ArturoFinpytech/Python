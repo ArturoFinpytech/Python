{
  "nbformat": 4,
  "nbformat_minor": 0,
  "metadata": {
    "colab": {
      "provenance": [],
      "toc_visible": true,
      "mount_file_id": "1BY4Gl3EFmObsJGo0n_fBN0xWjZkJYCMQ",
      "authorship_tag": "ABX9TyOwmOGi1VriUH9ixZ1jf3il",
      "include_colab_link": true
    },
    "kernelspec": {
      "name": "python3",
      "display_name": "Python 3"
    },
    "language_info": {
      "name": "python"
    }
  },
  "cells": [
    {
      "cell_type": "markdown",
      "metadata": {
        "id": "view-in-github",
        "colab_type": "text"
      },
      "source": [
        "<a href=\"https://colab.research.google.com/github/ArturoFinpytech/Python/blob/main/1_introduccion.ipynb\" target=\"_parent\"><img src=\"https://colab.research.google.com/assets/colab-badge.svg\" alt=\"Open In Colab\"/></a>"
      ]
    },
    {
      "cell_type": "markdown",
      "source": [
        "#**1. Introducción**\n",
        "\n",
        "\n",
        "\n",
        "\n"
      ],
      "metadata": {
        "id": "4BLJVz4ox82I"
      }
    },
    {
      "cell_type": "markdown",
      "source": [
        "Bienvenidos a nuestra introducción a Python para finanzas. Python es un lenguaje de programación poderoso y fácil de aprender, utilizado en una amplia gama de industrias, incluyendo las finanzas. Su simplicidad y poderosa biblioteca de herramientas lo convierten en el candidato ideal para profesionales financieros que buscan automatizar tareas, analizar datos o incluso modelar complejos sistemas financieros.\n",
        "\n",
        "---\n",
        "\n"
      ],
      "metadata": {
        "id": "TO_3alw_tnEj"
      }
    },
    {
      "cell_type": "markdown",
      "source": [
        "####**1.1. ¿Por qué Python en finanzas?**\n",
        "\n",
        "\n",
        "Python se destaca en el mundo financiero por su simplicidad y eficacia. Les permite a los analistas y traders ejecutar rápidamente modelos cuantitativos y análisis de datos sin la complejidad de otros lenguajes de programación. Desde la automatización de informes hasta la predicción de precios de mercado con Machine Learning, Python está transformando las finanzas.\"\n",
        "\n",
        "\n",
        "---\n",
        "\n",
        "\n",
        "\n",
        "\n"
      ],
      "metadata": {
        "id": "RwXyY-HttwNb"
      }
    },
    {
      "cell_type": "markdown",
      "source": [
        "####**1.2. Historias de Éxito.**\n",
        "\n",
        "**La Transformación de Alex**\n",
        "\n",
        "Alex comenzó su carrera en el sector financiero como analista de datos, utilizando principalmente hojas de cálculo para análisis complejos. Sin embargo, se enfrentó al desafío de la lentitud y limitaciones en el manejo de grandes volúmenes de datos. Esto cambió cuando Alex decidió aprender Python y sus bibliotecas de análisis de datos.\n",
        "\n",
        "Con sus nuevas habilidades en Python, Alex pudo automatizar tareas repetitivas, analizar grandes datasets en minutos y presentar sus hallazgos con visualizaciones de datos impactantes. Este cambio no solo aumentó su eficiencia sino que también impulsó su carrera, llevándolo a un rol de liderazgo donde ahora impulsa la adopción de tecnologías de análisis de datos en toda la empresa.\n",
        "\n",
        "**La Innovación de Jamie**\n",
        "\n",
        "Jamie era un gestor de carteras en un pequeño fondo de inversión, luchando por competir con las grandes firmas que utilizaban sofisticados algoritmos de trading. La determinación de Jamie por innovar la llevó a aprender Python y explorar el campo del trading algorítmico.\n",
        "\n",
        "A través de cursos en línea y muchas noches de codificación, Jamie desarrolló un modelo de trading predictivo que incorporaba aprendizaje automático. Este modelo no solo mejoró el rendimiento de sus inversiones sino que también captó la atención de la industria, resultando en una oferta para liderar una nueva división de tecnología financiera en una firma de renombre."
      ],
      "metadata": {
        "id": "l1s7XIeXbvLv"
      }
    },
    {
      "cell_type": "markdown",
      "source": [
        "#**2. Primeros pasos en Python**"
      ],
      "metadata": {
        "id": "2vMSObKcemDJ"
      }
    },
    {
      "cell_type": "markdown",
      "source": [
        "En esta sección construiremos la base de nuestro viaje por Python, especialmente diseñado para entusiastas de las finanzas. Aquí, descubriremos por qué Python se ha convertido en una herramienta indispensable en el mundo financiero.\n",
        "\n",
        "Para adentrarnos en el fascinante mundo del análisis financiero y la modelación de datos complejos con Python, es imperativo que primero pongamos nuestros cimientos sobre terreno firme. Imagina que estás construyendo tu casa ideal: antes de pensar en el diseño de interiores o en el paisajismo, necesitas asegurarte de que la base sobre la cual se erige es sólida y fiable. De manera similar, adentrarse en el vasto universo de Python y sus aplicaciones en finanzas requiere un entendimiento profundo y claro de los principios básicos que sostienen cualquier proyecto de programación.\n",
        "\n",
        "---"
      ],
      "metadata": {
        "id": "drY8F_2fndDq"
      }
    },
    {
      "cell_type": "markdown",
      "source": [
        "## **2.1. Los 3 pilares fundamentales de la programacion**\n",
        "\n",
        "\n"
      ],
      "metadata": {
        "id": "0DTDFwCH06Vf"
      }
    },
    {
      "cell_type": "markdown",
      "source": [
        "###2.1.1. Pilar 1: Sintaxis Básica de Python\n",
        "\n",
        "\n",
        "La sintaxis de Python es notablemente legible y concisa. Comprender su estructura es esencial para escribir código eficiente y claro. La sintaxis básica abarca la estructuración de código, la definición de funciones y la interacción con los datos de manera efectiva.\n",
        "\n",
        "Ejemplos de Sintaxis:\n",
        "\n",
        "**Variables**:\n",
        "\n",
        "`precio_accion = 100`\n",
        "\n",
        "**Funciones**:\n",
        "\n",
        "\n",
        "```\n",
        "def calcular_retorno(inversion_inicial, valor_actual):\n",
        "    return (valor_actual - inversion_inicial) / inversion_inicial\n",
        "```\n",
        "\n",
        "**Ejecución de una Función**: `retorno = calcular_retorno(100, 110)`"
      ],
      "metadata": {
        "id": "iA0wP-yZ1Oqa"
      }
    },
    {
      "cell_type": "markdown",
      "source": [
        "###**2.1.2. Pilar 2: Tipos de Datos**\n",
        "\n",
        "Los tipos de datos en Python permiten clasificar la información, facilitando su manipulación. Los principales tipos incluyen números (integers y floats), cadenas de texto (strings), listas, tuplas, diccionarios y booleanos.\n",
        "\n",
        "**Ejemplos de Sintaxis:**\n",
        "\n",
        "\n",
        "\n",
        "\n",
        "**Números:**\n",
        "\n",
        "`cantidad_acciones = 50 (integer), precio_accion = 23.75 (float)`\n",
        "\n",
        "**Cadenas de Texto:**\n",
        "\n",
        "`nombre_empresa = \"FinanzasCorp\"`\n",
        "\n",
        "**Listas:**\n",
        "\n",
        "`precios_semanales = [22.5, 23.75, 23.00, 24.25]`\n",
        "\n",
        "**Diccionarios:**\n",
        "\n",
        "`acciones = {\"Apple\": 145.30, \"Microsoft\": 210.45}`\n",
        "\n",
        "\n"
      ],
      "metadata": {
        "id": "E0E5Gw2q2Qs_"
      }
    },
    {
      "cell_type": "markdown",
      "source": [
        "### **2.2.3. Pilar 3: Estructuras de Control**\n",
        "\n",
        "Las estructuras de control dirigen el flujo del programa, permitiendo la toma de decisiones, la ejecución de código de manera condicional y la repetición de operaciones. Incluyen instrucciones como if, else, elif, así como bucles for y while.\n",
        "\n",
        "**Ejemplos de Sintaxis**:\n",
        "\n",
        "\n",
        "**Condicionales:**\n",
        "\n",
        "\n",
        "\n",
        "\n",
        "```\n",
        "if precio_accion > 100:\n",
        "    print(\"La acción está sobrevalorada\")\n",
        "else:\n",
        "    print(\"La acción tiene un precio razonable\")\n",
        "```\n",
        "**Explicación:**\n",
        "\n",
        "1. **Condición if:** La primera línea `if precio_accion > 100:` verifica si el valor de la variable `precio_accion` es mayor que 100. Esta es una operación de comparación que retorna un valor booleano: **True (verdadero)** si la condición se cumple (es decir, si precio_accion es efectivamente mayor que 100), o **False (falso)** si no se cumple.\n",
        "\n",
        "2. **Bloque de código if:** Si el resultado de la evaluación de la condición if es True, se ejecuta el bloque de código indentado justo después de esta línea, que en este caso es `print(\"La acción está sobrevalorada\")`. Esto significa que si el precio de la acción es mayor que 100, el programa imprimirá el mensaje indicando que la acción está sobrevalorada.\n",
        "\n",
        "3. **Estructura else:** La palabra clave **else** se utiliza para definir un bloque de código que se ejecutará si la condición if anterior se evalúa como False. se ejecuta el bloque de código indentado justo después de esta línea.\n",
        "\n",
        "4. **Bloque de código else:** Si el resultado de la evaluación de la condición if es False (es decir, si precio_accion no es mayor que 100), entonces se ejecutará el bloque de código indentado después de else, que es print(\"La acción tiene un precio razonable\"). En este caso, el programa imprimirá un mensaje diferente, indicando que el precio de la acción se considera razonable.\n",
        "\n",
        "\n",
        "**Bucles:**\n",
        "\n",
        "```\n",
        "for precio in precios_semanales:\n",
        "    if precio > 23.50:\n",
        "        print(\"El precio superó el umbral de alerta\")\n",
        "```\n",
        "\n",
        "**Explicación:**\n",
        "\n",
        "Este fragmento de código demuestra el uso de un bucle for junto con una condicional if para iterar sobre una lista (precios_semanales) y realizar una evaluación específica en cada iteración.\n",
        "\n",
        "\n",
        "\n",
        "\n",
        "1.   **Bucle For**: La primera línea for precio in precios_semanales: inicia un bucle que recorre cada elemento dentro de la lista precios_semanales. En cada iteración del bucle, la variable precio toma el valor de uno de los elementos de la lista, uno a la vez, hasta que se hayan recorrido todos los elementos.\n",
        "2.   **Condición If**: Dentro del bucle, se utiliza una condición if para verificar si el precio actual (el valor de la variable precio en la iteración actual) es mayor que 23.50. Esta es una operación de comparación que se evalúa como verdadera (True) o falsa (False).\n",
        "3. **Impresión Condicional**: Si la condición if precio > 23.50 se evalúa como verdadera, entonces se ejecuta el código indentado que le sigue, en este caso, print(\"El precio superó el umbral de alerta\"). Esto significa que si el precio en la iteración actual es mayor que 23.50, se imprimirá el mensaje indicando que el precio ha superado un umbral de alerta predefinido.\n",
        "\n",
        "\n",
        "\n",
        "\n",
        "\n",
        "\n"
      ],
      "metadata": {
        "id": "oOlHl_iQ3Yfa"
      }
    },
    {
      "cell_type": "markdown",
      "source": [
        "##**2.2. Importancia de los Comentarios:**"
      ],
      "metadata": {
        "id": "4iORyG4jw00G"
      }
    },
    {
      "cell_type": "markdown",
      "source": [
        "\n",
        "\n",
        "Cuando nos adentramos en el mundo de la programación, especialmente en Python, es crucial aprender no solo a escribir código que las computadoras entienden, sino también a comunicarnos efectivamente con aquellos que leerán y trabajarán con nuestro código en el futuro. Esto incluye a nuestro yo futuro, que puede regresar a un proyecto después de un tiempo. Aquí es donde los comentarios se vuelven esenciales.\n",
        "\n",
        "Los comentarios en Python son como notas al margen en un libro. Permiten a los programadores incluir recordatorios, explicaciones y razones detrás de las decisiones de codificación directamente en el código. Esto hace que el código sea más legible y fácil de entender, no solo para otros, sino también para ti mismo cuando revises tu trabajo después de un tiempo.\n",
        "\n",
        "---"
      ],
      "metadata": {
        "id": "r-3qsDj3qCgx"
      }
    },
    {
      "cell_type": "markdown",
      "source": [
        "## **2.3. Tipos de Comentarios en Python**\n",
        "\n"
      ],
      "metadata": {
        "id": "ceIrnBkfrjuM"
      }
    },
    {
      "cell_type": "markdown",
      "source": [
        "Python ofrece dos formas de agregar comentarios al código:\n",
        "\n",
        "#### **2.3.1. Comentarios de una línea:**\n",
        "Comienzan con el símbolo **#**. Estos son útiles para notas cortas y recordatorios rápidos.\n",
        "\n",
        "*Ejemplo:*\n",
        "\n",
        "\n",
        "\n",
        "```\n",
        "# Calcula el interés compuesto\n",
        "monto_final = principal * (1 + tasa/100) ** años\n",
        "```\n",
        "Aquí, el comentario de una línea proporciona una rápida explicación de lo que hace la siguiente línea de código.\n",
        "\n"
      ],
      "metadata": {
        "id": "Q1pAWxDPrWFf"
      }
    },
    {
      "cell_type": "markdown",
      "source": [
        "#### **2.3.2. Comentarios de varias líneas o de bloque:**\n",
        "Aunque Python no tiene una sintaxis específica para comentarios multilínea, puedes usar tres comillas dobles (**\"\"\"**) * *al principio y al final de tu comentario* * para este propósito. Estos son particularmente útiles para descripciones extensas o para comentar temporalmente bloques de código que no quieres ejecutar.\n",
        "\n",
        "\n",
        "\n",
        "\n",
        "\n",
        "```\n",
        "\"\"\"\n",
        "Esta función calcula el interés compuesto dado un principal,\n",
        "una tasa de interés anual y un número de años.\n",
        "Retorna el monto final.\n",
        "\"\"\"\n",
        "```\n",
        "---\n",
        "\n",
        "\n"
      ],
      "metadata": {
        "id": "J9x8khqcwedk"
      }
    },
    {
      "cell_type": "markdown",
      "source": [
        "## **2.4. Mejores Prácticas para Comentar**\n",
        "**Claridad antes que cantidad:** Comenta lo que sea necesario para hacer el código entendible, pero evita comentarios obvios o redundantes.\n",
        "\n",
        "\n",
        "**Mantén los comentarios actualizados:** Un comentario incorrecto puede ser más engañoso que ningún comentario. Asegúrate de revisar y actualizar tus comentarios si cambias partes de tu código.\n",
        "\n",
        "\n",
        "**Usa comentarios para explicar el \"por qué\":** Mientras que el código dice \"qué\" se está haciendo, los comentarios deben usarse para explicar \"por qué\" algo se hace de cierta manera.\n",
        "\n",
        "\n",
        "Incluir comentarios efectivos en tu código es una señal de profesionalismo y consideración hacia otros programadores, incluido tu futuro yo. A medida que avanzamos en esta guía, verás ejemplos de cómo y cuándo usar comentarios para hacer tu código más accesible y comprensible.\n",
        "\n",
        "*Ejemplo*:\n",
        "\n",
        "\n",
        "\n",
        "```\n",
        "\"\"\"Estos son los comentarios de varias lineas\n",
        "pueden ser usados para dar largas explicaciones o comentar codigos que no utilizaremos\"\"\"\n",
        "\n",
        "#Estos son comentarios de una linea para notas o pequeños recordatorios\n",
        "```\n",
        "\n",
        "---\n"
      ],
      "metadata": {
        "id": "k9mRwWghwl-z"
      }
    },
    {
      "cell_type": "markdown",
      "source": [
        "# **3. Tipos de Datos y Estructuras de Control**\n",
        "\n",
        "Bienvenidos a la próxima etapa de nuestra aventura en Python, donde los fundamentos se encuentran con aplicaciones financieras reales. Habiendo establecido una base sólida en la sintaxis de Python, es hora de sumergirnos en los tipos de datos y estructuras de control, herramientas cruciales para cualquier programador financiero.\n",
        "\n",
        "En el universo de Python, la información se organiza y se manipula a través de diferentes tipos de datos. Estos tipos de datos son categorías que Python utiliza para saber cómo tratar diferentes piezas de información. Por ejemplo, los **números** (como precios de acciones, tasas de interés, o montos de transacciones) pueden ser representados por tipos de datos numéricos, mientras que las descripciones **textuales** (como nombres de empresas, categorías de inversiones, o reportes de análisis) se manejan como cadenas de texto.\n"
      ],
      "metadata": {
        "id": "rUvBYHTSuvCI"
      }
    },
    {
      "cell_type": "markdown",
      "source": [
        "##3.1."
      ],
      "metadata": {
        "id": "JEBsI57YxFBA"
      }
    },
    {
      "cell_type": "markdown",
      "source": [
        "En Python, la función print() se utiliza para enviar datos a la salida estándar (generalmente la pantalla). Esta función tiene varias formas de manejar la impresión, permitiendo a los programadores formatear la salida de manera flexible. veamos algunos ejemplos de impresion que existe en python."
      ],
      "metadata": {
        "id": "uecjPFBdE3V5"
      }
    },
    {
      "cell_type": "markdown",
      "source": [],
      "metadata": {
        "id": "Zta7xWxuumMP"
      }
    },
    {
      "cell_type": "markdown",
      "source": [
        "####1. Concatenación de Strings\n",
        "Utiliza el operador + para combinar varias cadenas y variables en una sola línea de texto."
      ],
      "metadata": {
        "id": "YFVNu6HcFiRH"
      }
    },
    {
      "cell_type": "code",
      "source": [
        "nombre = \"Pytech\"\n",
        "print(\"Hola, \" + nombre + \"!\")"
      ],
      "metadata": {
        "colab": {
          "base_uri": "https://localhost:8080/"
        },
        "id": "flmHzI7LFXkt",
        "outputId": "d7b7e18e-9610-466e-e848-9069cbe3b5ee"
      },
      "execution_count": null,
      "outputs": [
        {
          "output_type": "stream",
          "name": "stdout",
          "text": [
            "Hola, Pytech!\n"
          ]
        }
      ]
    },
    {
      "cell_type": "markdown",
      "source": [
        "####2. Conversión a String y Concatenación\n",
        "Convierte explícitamente valores no-string a string usando str() y luego concatena."
      ],
      "metadata": {
        "id": "cAp0Qdz7IGgl"
      }
    },
    {
      "cell_type": "code",
      "source": [
        "edad = 30\n",
        "print(\"Tienes \" + str(edad) + \" años.\")\n"
      ],
      "metadata": {
        "colab": {
          "base_uri": "https://localhost:8080/"
        },
        "id": "zBUgyYpTIKfV",
        "outputId": "251ea225-731d-42c9-e08f-a5b9d4dbbcbc"
      },
      "execution_count": null,
      "outputs": [
        {
          "output_type": "stream",
          "name": "stdout",
          "text": [
            "Tienes 30 años.\n"
          ]
        }
      ]
    },
    {
      "cell_type": "markdown",
      "source": [
        "####3. Formato de String con %\n",
        "Este método es más antiguo y se asemeja a la forma en que C maneja el formateo de strings. Utiliza %s para strings, %d para enteros, %f para números de punto flotante, etc."
      ],
      "metadata": {
        "id": "tXxtRIjLIQut"
      }
    },
    {
      "cell_type": "code",
      "source": [
        "edad = 30\n",
        "print(\"Tienes %d años.\" % edad)"
      ],
      "metadata": {
        "id": "KPQZa99PISyu"
      },
      "execution_count": null,
      "outputs": []
    },
    {
      "cell_type": "markdown",
      "source": [
        "####4. Método .format()\n",
        "Introducido en Python 2.6, permite un formateo más flexible. Los valores se insertan en la cadena de texto en lugar de los corchetes {}."
      ],
      "metadata": {
        "id": "XsJ-Zj_qIfOe"
      }
    },
    {
      "cell_type": "code",
      "source": [
        "edad = 30\n",
        "print(\"Tienes {} años.\".format(edad))"
      ],
      "metadata": {
        "id": "Nhq_Jm9JKKjz"
      },
      "execution_count": null,
      "outputs": []
    },
    {
      "cell_type": "markdown",
      "source": [
        "Puedes especificar el orden y utilizar la misma variable varias veces."
      ],
      "metadata": {
        "id": "kgaHMr0xKTKU"
      }
    },
    {
      "cell_type": "code",
      "source": [
        "nombre = \"PyTech\"\n",
        "edad = 30\n",
        "print(\"Hola, {0}. Tienes {1} años. ¿Verdad, {0}?\".format(nombre, edad))"
      ],
      "metadata": {
        "id": "TjpEX15lKSWU"
      },
      "execution_count": null,
      "outputs": []
    },
    {
      "cell_type": "markdown",
      "source": [
        "####5. f-Strings (Formatted String Literals)\n",
        "Introducidos en Python 3.6, los f-strings ofrecen una forma muy legible y concisa de formatear strings. Se prefijan con f y utilizan llaves {} para evaluar expresiones directamente dentro de la cadena."
      ],
      "metadata": {
        "id": "aOHmELnqdK4E"
      }
    },
    {
      "cell_type": "code",
      "source": [
        "nombre = \"PyTech\"\n",
        "edad = 30\n",
        "print(f\"Hola, {nombre}. Tienes {edad} años.\")"
      ],
      "metadata": {
        "id": "ie0LNimQdVr5"
      },
      "execution_count": null,
      "outputs": []
    },
    {
      "cell_type": "markdown",
      "source": [
        "Puedes incluir expresiones y especificar el formato:"
      ],
      "metadata": {
        "id": "KQ2tNq90dm7I"
      }
    },
    {
      "cell_type": "code",
      "source": [
        "rendimiento = 0.123456\n",
        "print(f\"El rendimiento de su inversión es: {rendimiento:.2f}%\")"
      ],
      "metadata": {
        "id": "labq8F0Xdn4H"
      },
      "execution_count": null,
      "outputs": []
    },
    {
      "cell_type": "markdown",
      "source": [
        "En el ejemplo dado, {rendimiento:.2f}% formatea el valor de rendimiento a un número de punto flotante con dos decimales."
      ],
      "metadata": {
        "id": "t9hUcqSSdd_y"
      }
    },
    {
      "cell_type": "markdown",
      "source": [
        "####**Los f-Strings**\n",
        "introducidos en Python 3.6, ofrecen una manera eficiente y legible de formatear strings. Utilizan las {} para evaluar expresiones de Python directamente dentro de una cadena de caracteres. Esta funcionalidad no solo mejora la legibilidad del código, sino que también proporciona una forma potente de incorporar datos dinámicamente en strings. Aquí exploramos varias capacidades y funciones avanzadas que puedes utilizar con f-strings:"
      ],
      "metadata": {
        "id": "D9MyC7Dpdd8h"
      }
    },
    {
      "cell_type": "markdown",
      "source": [
        "**Expresiones Directas**\n",
        "Puedes realizar operaciones matemáticas o llamar funciones directamente dentro de las llaves:"
      ],
      "metadata": {
        "id": "ipcJw4hAdd5R"
      }
    },
    {
      "cell_type": "code",
      "source": [
        "a = 5\n",
        "b = 10\n",
        "print(f\"La suma de {a} y {b} es {a + b}.\")"
      ],
      "metadata": {
        "id": "ZJEP-h4Reb57"
      },
      "execution_count": null,
      "outputs": []
    },
    {
      "cell_type": "markdown",
      "source": [
        "**Llamadas a Funciones**\n",
        "Las f-strings permiten la ejecución de funciones directamente dentro de las llaves:"
      ],
      "metadata": {
        "id": "BjnSUJMrddzh"
      }
    },
    {
      "cell_type": "markdown",
      "source": [],
      "metadata": {
        "id": "kQqPpa8wddpo"
      }
    },
    {
      "cell_type": "markdown",
      "source": [
        "#Ejemplo practico"
      ],
      "metadata": {
        "id": "QW0qzL-qCqxe"
      }
    },
    {
      "cell_type": "code",
      "execution_count": null,
      "metadata": {
        "colab": {
          "base_uri": "https://localhost:8080/"
        },
        "id": "o6IZeHDgAKSU",
        "outputId": "257c0f19-d3b0-40cf-8216-a327d23254df"
      },
      "outputs": [
        {
          "output_type": "stream",
          "name": "stdout",
          "text": [
            "Ingrese el precio de compra de la inversión: 100\n",
            "Ingrese el precio de venta de la inversión: 150\n",
            "El rendimiento de su inversión es: 50.00%\n"
          ]
        }
      ],
      "source": [
        "# Definir el precio de compra y el precio de venta\n",
        "precio_compra = float(input(\"Ingrese el precio de compra de la inversión: \"))\n",
        "precio_venta = float(input(\"Ingrese el precio de venta de la inversión: \"))\n",
        "\n",
        "# Calcular el rendimiento de la inversión\n",
        "rendimiento = ((precio_venta - precio_compra) / precio_compra) * 100\n",
        "\n",
        "# Mostrar el resultado\n",
        "print(f\"El rendimiento de su inversión es: {rendimiento:.2f}%\")"
      ]
    },
    {
      "cell_type": "code",
      "source": [],
      "metadata": {
        "id": "2qquxtMyCnJf"
      },
      "execution_count": null,
      "outputs": []
    }
  ]
}